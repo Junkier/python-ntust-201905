{
 "cells": [
  {
   "cell_type": "code",
   "execution_count": 20,
   "metadata": {
    "scrolled": true
   },
   "outputs": [
    {
     "name": "stdout",
     "output_type": "stream",
     "text": [
      "第 1 項 :  1\n",
      "第 2 項 :  1\n",
      "第 3 項 :  2\n",
      "第 4 項 :  3\n",
      "第 5 項 :  5\n",
      "第 6 項 :  8\n",
      "第 7 項 :  13\n",
      "第 8 項 :  21\n",
      "第 9 項 :  34\n",
      "第 10 項 :  55\n"
     ]
    }
   ],
   "source": [
    "# 1,1,2,3,5,8,13,21,34,55,89,..\n",
    "\n",
    "def fibonacciSequence(n):\n",
    "    if n ==1 or n == 2 :\n",
    "        return 1\n",
    "    a0=1\n",
    "    a1=1\n",
    "#     result = a0+a1\n",
    "    # 假設 n = 5\n",
    "    for i in range(n-2):\n",
    "#         print(\"Old a0 :\" , a0)\n",
    "#         print(\"Old a1 :\" , a1)\n",
    "        result = a0+a1\n",
    "        \n",
    "#         print(\"Result :\" , result)\n",
    "        a0 = a1\n",
    "        a1 = result\n",
    "#         print(\"New a0 :\",a0)\n",
    "#         print(\"New a1 :\",a1)\n",
    "#         print(\"-\"*80)\n",
    "    return result\n",
    "        \n",
    "    \n",
    "num = 10\n",
    "# print(\"Result: \" , fibonacciSequence(num))\n",
    "\n",
    "for i in range(1,num+1):\n",
    "    print(\"第\",i ,\"項 : \" , fibonacciSequence(i))"
   ]
  },
  {
   "cell_type": "code",
   "execution_count": 46,
   "metadata": {},
   "outputs": [
    {
     "name": "stdout",
     "output_type": "stream",
     "text": [
      "D:\\python-ntust\\python-ntust-201905\n",
      "['.git', '.ipynb_checkpoints', 'FAQ-series.md', 'ntust-2019-0509.md', 'ntust-20190501.ipynb', 'ntust-20190502.ipynb', 'ntust-20190508.ipynb', 'ntust-20190509.ipynb', 'ntust-20190516.ipynb', 'sample.csv', 'testB.txt', 'testC.txt', 'Untitled.ipynb']\n",
      "--------------------------------------------------------------------------------\n",
      "['D:\\\\python-ntust\\\\python-ntust-201905', 'C:\\\\ProgramData\\\\Anaconda3\\\\python37.zip', 'C:\\\\ProgramData\\\\Anaconda3\\\\DLLs', 'C:\\\\ProgramData\\\\Anaconda3\\\\lib', 'C:\\\\ProgramData\\\\Anaconda3', '', 'C:\\\\ProgramData\\\\Anaconda3\\\\lib\\\\site-packages', 'C:\\\\ProgramData\\\\Anaconda3\\\\lib\\\\site-packages\\\\win32', 'C:\\\\ProgramData\\\\Anaconda3\\\\lib\\\\site-packages\\\\win32\\\\lib', 'C:\\\\ProgramData\\\\Anaconda3\\\\lib\\\\site-packages\\\\Pythonwin', 'C:\\\\ProgramData\\\\Anaconda3\\\\lib\\\\site-packages\\\\IPython\\\\extensions', 'C:\\\\Users\\\\CEC\\\\.ipython']\n",
      "3.7.3 (default, Mar 27 2019, 17:13:21) [MSC v.1915 64 bit (AMD64)]\n",
      "--------------------------------------------------------------------------------\n",
      "0.3067603331891138\n",
      "8\n",
      "['o', ' ', 'k', 'a']\n",
      "0.7413697272979008\n",
      "0.22917221524184794\n",
      "0.6474630273522172\n",
      "0.3536650468172122\n",
      "0.9759452691182815\n",
      "0.08686950512531977\n",
      "0.5377595768289117\n",
      "0.9446917444272137\n",
      "0.8467162891871906\n",
      "0.8243577736379212\n"
     ]
    }
   ],
   "source": [
    "import os\n",
    "\n",
    "# 顯示當前路徑\n",
    "print(os.getcwd())\n",
    "# location = os.getcwd()\n",
    "print(os.listdir())\n",
    "\n",
    "print(\"-\"*80)\n",
    "\n",
    "import sys\n",
    "print(sys.path)\n",
    "print(sys.version)\n",
    "\n",
    "print(\"-\"*80)\n",
    "\n",
    "import random\n",
    "print(random.random())\n",
    "print(random.randint(1,10))\n",
    "print(random.sample(\"This is a book.\",4))\n",
    "\n",
    "for i in range(10):\n",
    "    print(random.random())\n",
    "\n"
   ]
  }
 ],
 "metadata": {
  "kernelspec": {
   "display_name": "Python 3",
   "language": "python",
   "name": "python3"
  },
  "language_info": {
   "codemirror_mode": {
    "name": "ipython",
    "version": 3
   },
   "file_extension": ".py",
   "mimetype": "text/x-python",
   "name": "python",
   "nbconvert_exporter": "python",
   "pygments_lexer": "ipython3",
   "version": "3.7.3"
  }
 },
 "nbformat": 4,
 "nbformat_minor": 2
}
