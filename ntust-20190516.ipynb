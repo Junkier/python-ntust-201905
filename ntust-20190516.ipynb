{
 "cells": [
  {
   "cell_type": "code",
   "execution_count": 8,
   "metadata": {},
   "outputs": [
    {
     "name": "stdout",
     "output_type": "stream",
     "text": [
      "Result:  55\n"
     ]
    }
   ],
   "source": [
    "# 1,1,2,3,5,8,13,21,34,55,89,..\n",
    "\n",
    "def fibonacciSequence(n):\n",
    "    if n ==1 or n == 2 :\n",
    "        return 1\n",
    "    a0=1\n",
    "    a1=1\n",
    "#     result = a0+a1\n",
    "    # 假設 n = 5\n",
    "    for i in range(n-2):\n",
    "        result = a0+a1\n",
    "        a0 = a1\n",
    "        a1 = result\n",
    "    return result\n",
    "        \n",
    "    \n",
    "num = 10\n",
    "print(\"Result: \" , fibonacciSequence(num))"
   ]
  }
 ],
 "metadata": {
  "kernelspec": {
   "display_name": "Python 3",
   "language": "python",
   "name": "python3"
  },
  "language_info": {
   "codemirror_mode": {
    "name": "ipython",
    "version": 3
   },
   "file_extension": ".py",
   "mimetype": "text/x-python",
   "name": "python",
   "nbconvert_exporter": "python",
   "pygments_lexer": "ipython3",
   "version": "3.7.3"
  }
 },
 "nbformat": 4,
 "nbformat_minor": 2
}
