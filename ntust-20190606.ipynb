{
 "cells": [
  {
   "cell_type": "code",
   "execution_count": 6,
   "metadata": {},
   "outputs": [],
   "source": [
    "import requests \n",
    "url = \"https://www.liontravel.com/tourpackage/japan/\"\n",
    "res = requests.get(url)\n",
    "# print(res.text)\n",
    "\n",
    "with open(\"raw-source-code.txt\",\"w\",encoding=\"utf8\") as outFile:\n",
    "    outFile.write(res.text)"
   ]
  },
  {
   "cell_type": "code",
   "execution_count": 51,
   "metadata": {
    "scrolled": true
   },
   "outputs": [],
   "source": [
    "from bs4 import BeautifulSoup as bs \n",
    "soup = bs(res.text,\"lxml\")\n",
    "# soup.select(\"a\")\n",
    "ulTags = soup.select(\"div#content ul.colWidth\")\n",
    "for ul in ulTags[:10]:\n",
    "    print(ul)\n",
    "    print(\"-\"*80)"
   ]
  },
  {
   "cell_type": "code",
   "execution_count": 50,
   "metadata": {},
   "outputs": [],
   "source": [
    "# cor defCol box_2 fsf\n",
    "\n",
    "# ulTags = soup.select(\"div#content ul.colWidth\")\n",
    "ulTagsNew = soup.select(\"div#content div.cor.defCol.box_2.fsf ul.colWidth\")\n",
    "\n",
    "for ul in ulTagsNew[:10]:\n",
    "    print(ul)\n",
    "    print(\"-\"*80)"
   ]
  },
  {
   "cell_type": "code",
   "execution_count": 49,
   "metadata": {},
   "outputs": [
    {
     "name": "stdout",
     "output_type": "stream",
     "text": [
      "<ul class=\"colWidth\">\n",
      "<li>\n",
      "<span><a href=\"/webpd/webpdsh00.aspx?sKind=1&amp;sProd=SJX08KKNNN\" title=\"【暑假促銷】祕境古道熊野那智大社～那智瀑布.三段壁.伊勢神宮.海女表演.伊賀忍者.DIY.溫泉五日\">【暑假促銷】祕境古道熊野那智大社～那智瀑布.三段壁.伊勢神宮.海女表演.伊賀忍者.DIY.溫泉五日</a></span>\n",
      "<span class=\"text2\">出團日期：07/01、07/02、07/05     \r\n",
      "<a href=\"/webpd/webpdse01.aspx?EXA=%e6%9a%91%e9%99%8d%e5%8d%97%e7%b4%80%e6%b5%b7%e5%a5%b3%e7%be%8e%e9%a5%8c%e5%90%8d%e6%b9%af5%e6%97%a5&amp;sline=6\" target=\"_top\" title=\"【暑假促銷】祕境古道熊野那智大社～那智瀑布.三段壁.伊勢神宮.海女表演.伊賀忍者.DIY.溫泉五日\"> ..more</a></span>\n",
      "<span class=\"amount\"><a href=\"/webpd/webpdse01.aspx?EXA=%e6%9a%91%e9%99%8d%e5%8d%97%e7%b4%80%e6%b5%b7%e5%a5%b3%e7%be%8e%e9%a5%8c%e5%90%8d%e6%b9%af5%e6%97%a5&amp;sline=6\" target=\"_top\" title=\"【暑假促銷】祕境古道熊野那智大社～那智瀑布.三段壁.伊勢神宮.海女表演.伊賀忍者.DIY.溫泉五日\"><span class=\"txt\">$33,900</span><span>起 </span></a></span>\n",
      "</li>\n",
      "</ul>\n",
      "--------------------------------------------------------------------------------\n",
      "$33,900\n",
      "33900\n",
      "Name :  【暑假促銷】祕境古道熊野那智大社～那智瀑布.三段壁.伊勢神宮.海女表演.伊賀忍者.DIY.溫泉五日\n",
      "Cost :  33900\n",
      "<class 'int'>\n"
     ]
    }
   ],
   "source": [
    "# print(len(ulTagsNew))\n",
    "ele = ulTagsNew[3]\n",
    "print(ele)\n",
    "print(\"-\"*80)\n",
    "# 名稱\n",
    "name = ele.select(\"a\")[0].text\n",
    "# print(ele.select(\"a\"))\n",
    "# print(ele.select(\"a\")[0].text)\n",
    "\n",
    "# 價位\n",
    "print(ele.select(\"span.txt\")[0].text)\n",
    "print(ele.select(\"span.txt\")[0].text.replace(\"$\",\"\").replace(\",\",\"\"))\n",
    "rawCost = ele.select(\"span.txt\")[0].text\n",
    "cost    = int(rawCost.replace(\"$\",\"\").replace(\",\",\"\"))\n",
    "\n",
    "\n",
    "# 出團日\n",
    "\n",
    "print(\"Name : \",name)\n",
    "print(\"Cost : \",cost)\n",
    "print(type(cost))\n"
   ]
  },
  {
   "cell_type": "code",
   "execution_count": null,
   "metadata": {},
   "outputs": [],
   "source": []
  }
 ],
 "metadata": {
  "kernelspec": {
   "display_name": "Python 3",
   "language": "python",
   "name": "python3"
  },
  "language_info": {
   "codemirror_mode": {
    "name": "ipython",
    "version": 3
   },
   "file_extension": ".py",
   "mimetype": "text/x-python",
   "name": "python",
   "nbconvert_exporter": "python",
   "pygments_lexer": "ipython3",
   "version": "3.7.3"
  }
 },
 "nbformat": 4,
 "nbformat_minor": 2
}
