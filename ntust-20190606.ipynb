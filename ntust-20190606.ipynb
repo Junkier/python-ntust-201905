{
 "cells": [
  {
   "cell_type": "code",
   "execution_count": 6,
   "metadata": {},
   "outputs": [],
   "source": [
    "import requests \n",
    "url = \"https://www.liontravel.com/tourpackage/japan/\"\n",
    "res = requests.get(url)\n",
    "# print(res.text)\n",
    "\n",
    "with open(\"raw-source-code.txt\",\"w\",encoding=\"utf8\") as outFile:\n",
    "    outFile.write(res.text)"
   ]
  },
  {
   "cell_type": "code",
   "execution_count": 51,
   "metadata": {
    "scrolled": true
   },
   "outputs": [],
   "source": [
    "from bs4 import BeautifulSoup as bs \n",
    "soup = bs(res.text,\"lxml\")\n",
    "# soup.select(\"a\")\n",
    "ulTags = soup.select(\"div#content ul.colWidth\")\n",
    "for ul in ulTags[:10]:\n",
    "    print(ul)\n",
    "    print(\"-\"*80)"
   ]
  },
  {
   "cell_type": "code",
   "execution_count": 50,
   "metadata": {},
   "outputs": [],
   "source": [
    "# cor defCol box_2 fsf\n",
    "\n",
    "# ulTags = soup.select(\"div#content ul.colWidth\")\n",
    "ulTagsNew = soup.select(\"div#content div.cor.defCol.box_2.fsf ul.colWidth\")\n",
    "\n",
    "for ul in ulTagsNew[:10]:\n",
    "    print(ul)\n",
    "    print(\"-\"*80)"
   ]
  },
  {
   "cell_type": "code",
   "execution_count": 74,
   "metadata": {},
   "outputs": [
    {
     "name": "stdout",
     "output_type": "stream",
     "text": [
      "<ul class=\"colWidth\">\n",
      "<li>\n",
      "<span><a href=\"/webpd/webpdsh00.aspx?sKind=1&amp;sProd=SJP19NNCI3\" title=\"【暑假搶先降】名名玩很大～黑部立山．名花之里．合掌村．哆啦A夢電車．名古屋城～本丸御殿‧三井OUTL\">【暑假搶先降】名名玩很大～黑部立山．名花之里．合掌村．哆啦A夢電車．名古屋城～本丸御殿‧三井OUTL</a></span>\n",
      "<span class=\"text2\">出團日期：06/30、07/07、07/11     \r\n",
      "<a href=\"/webpd/webpdse01.aspx?EXA=%e6%9a%91%e9%99%8d%e7%ab%8b%e5%b1%b1%e5%90%8d%e5%90%8d%e7%8e%a9%e5%be%88%e5%a4%a75%e6%97%a5&amp;sline=6\" target=\"_top\" title=\"【暑假搶先降】名名玩很大～黑部立山．名花之里．合掌村．哆啦A夢電車．名古屋城～本丸御殿‧三井OUTL\"> ..more</a></span>\n",
      "<span class=\"amount\"><a href=\"/webpd/webpdse01.aspx?EXA=%e6%9a%91%e9%99%8d%e7%ab%8b%e5%b1%b1%e5%90%8d%e5%90%8d%e7%8e%a9%e5%be%88%e5%a4%a75%e6%97%a5&amp;sline=6\" target=\"_top\" title=\"【暑假搶先降】名名玩很大～黑部立山．名花之里．合掌村．哆啦A夢電車．名古屋城～本丸御殿‧三井OUTL\"><span class=\"txt\">$31,999</span><span>起 </span></a></span>\n",
      "</li>\n",
      "</ul>\n",
      "--------------------------------------------------------------------------------\n",
      "name :  【暑假搶先降】名名玩很大～黑部立山．名花之里．合掌村．哆啦A夢電車．名古屋城～本丸御殿‧三井OUTL\n",
      "cost :  31999\n",
      "time :  06/30、07/07、07/11\n"
     ]
    }
   ],
   "source": [
    "# print(len(ulTagsNew))\n",
    "ele = ulTagsNew[10]\n",
    "print(ele)\n",
    "print(\"-\"*80)\n",
    "\n",
    "# 名稱\n",
    "name = ele.select(\"a\")[0].text\n",
    "# print(ele.select(\"a\"))\n",
    "# print(ele.select(\"a\")[0].text)\n",
    "\n",
    "# 價位\n",
    "# print(ele.select(\"span.txt\")[0].text)\n",
    "# print(ele.select(\"span.txt\")[0].text.replace(\"$\",\"\").replace(\",\",\"\"))\n",
    "rawCost = ele.select(\"span.txt\")[0].text\n",
    "cost    = int(rawCost.replace(\"$\",\"\").replace(\",\",\"\"))\n",
    "\n",
    "\n",
    "# 出團日\n",
    "time = ele.select(\"span.text2\")[0].text\n",
    "time = time.replace(\"\\xa0\\xa0\\xa0  \\r\\n ..more\",\"\").replace(\"出團日期：\",\"\")\n",
    "# print(time)\n",
    "# print(repr(time))\n",
    "\n",
    "# print(\"-\"*80)\n",
    "print(\"name : \",name)\n",
    "print(\"cost : \",cost)\n",
    "print(\"time : \",time)\n"
   ]
  },
  {
   "cell_type": "code",
   "execution_count": null,
   "metadata": {},
   "outputs": [],
   "source": []
  }
 ],
 "metadata": {
  "kernelspec": {
   "display_name": "Python 3",
   "language": "python",
   "name": "python3"
  },
  "language_info": {
   "codemirror_mode": {
    "name": "ipython",
    "version": 3
   },
   "file_extension": ".py",
   "mimetype": "text/x-python",
   "name": "python",
   "nbconvert_exporter": "python",
   "pygments_lexer": "ipython3",
   "version": "3.7.3"
  }
 },
 "nbformat": 4,
 "nbformat_minor": 2
}
