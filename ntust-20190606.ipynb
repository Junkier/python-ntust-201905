{
 "cells": [
  {
   "cell_type": "code",
   "execution_count": 6,
   "metadata": {},
   "outputs": [],
   "source": [
    "import requests \n",
    "url = \"https://www.liontravel.com/tourpackage/japan/\"\n",
    "res = requests.get(url)\n",
    "# print(res.text)\n",
    "\n",
    "with open(\"raw-source-code.txt\",\"w\",encoding=\"utf8\") as outFile:\n",
    "    outFile.write(res.text)"
   ]
  },
  {
   "cell_type": "code",
   "execution_count": 24,
   "metadata": {
    "scrolled": true
   },
   "outputs": [
    {
     "name": "stdout",
     "output_type": "stream",
     "text": [
      "<ul class=\"colWidth\"><li><span class=\"item\"><span>旅遊地區</span></span><span class=\"deputyNav\"><span><a href=\"/tourpackage/us/?Sprima=00trsR1G01\" title=\"美國\">美國</a></span><span><a href=\"/tourpackage/ca/?Sprima=00trsR1G01\" title=\"加拿大\">加拿大</a></span><span><a href=\"/tourpackage/pacificislands/?Sprima=00trsR1G01\" title=\"關島/帛琉/馬爾地夫/大溪地\">太平洋小島</a></span><span><a href=\"/tourpackage/australia/?Sprima=00trsR1G01\" title=\"澳洲\">澳洲</a></span><span><a href=\"/tourpackage/newzealand/?Sprima=00trsR1G01\" title=\"紐西蘭\">紐西蘭</a></span><span><a href=\"/tourpackage/eu/middleeurope-westerneurope.aspx?Sprima=00trsR1G01\" title=\"中西歐\">中西歐</a></span><span><a href=\"/tourpackage/eu/easterneurope-russia.aspx?Sprima=00trsR1G01\" title=\"東歐/俄羅斯\">東歐/俄羅斯</a></span><span><a href=\"/tourpackage/eu/southerneurope-northerneurope.aspx?Sprima=00trsR1G01\" title=\"南/北歐\">南/北歐</a></span><span><a href=\"/tourpackage/middleeast/?Sprima=00trsR1G01\" title=\"土耳其/杜拜/約旦/以色列\">中東</a></span><span><a href=\"/tourpackage/africa/?Sprima=00trsR1G01\" title=\"埃及/南非/肯亞/模里西斯/塞席爾\">非洲</a></span><span><a href=\"/tourpackage/southasia/?Sprima=00trsR1G01\" title=\"印度/尼泊爾/斯里蘭卡\">中/南亞</a></span><span><a href=\"/tourpackage/china/?Sprima=00trsR1G01\" title=\"大陸\">大陸</a></span><span><a href=\"/tourpackage/china/hongkong-macau.aspx?Sprima=00trsR1G01\" title=\"香港/澳門/澳珠圳\">港澳</a></span><span><a href=\"/tourpackage/japan/?Sprima=00trsR1G01\" title=\"日本\">日本</a></span><span><a href=\"/tourpackage/theme/magicjapan.aspx?Sprima=00trsR1G01\" title=\"日本嚴選\">日本嚴選</a></span><span><a href=\"/tourpackage/korea/?Sprima=00trsR1G01\" title=\"韓國\">韓國</a></span><span><a href=\"/tourpackage/theme/magickorea.aspx?Sprima=00trsR1G01\" title=\"韓國嚴選\">韓國嚴選</a></span><span><a href=\"/tourpackage/asia/thailand.aspx?Sprima=00trsR1G01\" title=\"泰國\">泰國</a></span><span><a href=\"/tourpackage/asia/malaysia.aspx?Sprima=00trsR1G01\" title=\"馬來西亞\">馬來西亞</a></span><span><a href=\"/tourpackage/asia/singapore.aspx?Sprima=00trsR1G01\" title=\"新加坡\">新加坡</a></span><span><a href=\"/tourpackage/asia/bali.aspx?Sprima=00trsR1G01\" title=\"峇里島\">峇里島</a></span><span><a href=\"/tourpackage/asia/vietnam.aspx?Sprima=00trsR1G01\" title=\"越南/緬甸/寮國\">越南/緬甸</a></span><span><a href=\"/tourpackage/asia/philippines.aspx?Sprima=00trsR1G01\" title=\"馬尼拉/長灘島/宿霧/巴拉望\">菲律賓</a></span><span><a href=\"/tourpackage/asia/cambodia.aspx?Sprima=00trsR1G01\" title=\"吳哥窟/西哈努克\">吳哥窟</a></span><span><a href=\"/tourpackage/theme/central-south-america.aspx?Sprima=00trsR1G01\" target=\"_blank\" title=\"中南美洲\">中南美洲</a></span></span></li></ul>\n",
      "--------------------------------------------------------------------------------\n",
      "<ul class=\"colWidth\"><li><span class=\"item\"><span>旅遊城市</span></span><span class=\"deputyNav\"><span><a href=\"/tourpackage/japan/kanto.aspx?Sprima=00trsR4G01\" title=\"關東(東京/伊豆/日光)\">關東(東京/伊豆/日光)</a></span><span><a href=\"/tourpackage/japan/kansai.aspx?Sprima=00trsR4G01\" title=\"關西(大阪/岡山/廣島/四國)\">關西(大阪/岡山/廣島/四國)</a></span><span><a href=\"/tourpackage/japan/hokkaido.aspx?Sprima=00trsR4G01\" title=\"北海道(札幌/函館/旭川)\">北海道(札幌/函館/旭川)</a></span><span><a href=\"/tourpackage/japan/hokuriku.aspx?Sprima=00trsR4G01\" title=\"北陸(名古屋/立山黑部)\">北陸(名古屋/立山黑部)</a></span><span><a href=\"/tourpackage/japan/kyushu.aspx?Sprima=00trsR4G01\" title=\"九州(福岡/宮崎/鹿兒島)\">九州(福岡/宮崎/鹿兒島)</a></span><span><a href=\"/tourpackage/japan/tohoku.aspx?Sprima=00trsR4G01\" title=\"東北(仙台/山形/青森/秋田)\">東北(仙台/山形/青森/秋田)</a></span><span><a href=\"/tourpackage/japan/okinawa.aspx?Sprima=00trsR4G01\" title=\"沖繩(石垣/宮古/與論)\">沖繩(石垣/宮古/與論)</a></span></span></li></ul>\n",
      "--------------------------------------------------------------------------------\n",
      "<ul class=\"colWidth\"><div class=\"item\"><dl><dt>國外團體旅遊</dt><dd>日本館</dd></dl></div><div class=\"lightBox\"><div class=\"lightBox_img\"><ul><li><a href=\"https://www.liontravel.com/promotion/japan/onsale/hotsale.html?Sprima=trs07R2H02\" target=\"_blank\"><img alt=\"感恩88\" src=\"//static.liontech.com.tw/ADLinkHtml/B2C/TourPackage/Japan/IndexImages/222642.jpg\"/></a></li><li><a href=\"https://www.liontravel.com/promotion/holiday/summervacation/tour-japan.html?Sprima=trs07R2H02\" target=\"_blank\"><img alt=\"暑假親子小孩最高省萬元\" src=\"//static.liontech.com.tw/ADLinkHtml/B2C/TourPackage/Japan/IndexImages/220705.jpg\"/></a></li><li><a href=\"https://www.liontravel.com/promotion/japan/onsale/chinaairline.html?Sprima=trs07R2H02#ML114041\" target=\"_blank\"><img alt=\"日本揪團省很大\" src=\"//static.liontech.com.tw/ADLinkHtml/B2C/TourPackage/Japan/IndexImages/219696.jpg\"/></a></li><li><a href=\"https://www.liontravel.com/promotion/holiday/moon_festival/tour-japan.html?Sprima=trs07R2H02\" target=\"_blank\"><img alt=\"中秋連休\" src=\"//static.liontech.com.tw/ADLinkHtml/B2C/TourPackage/Japan/IndexImages/209211.jpg\"/></a></li><li><a href=\"https://www.liontravel.com/promotion/japan/tohoku/tour.html?Sprima=trs07R2H02\" target=\"_blank\"><img alt=\"帶爸媽出國全家85折\" src=\"//static.liontech.com.tw/ADLinkHtml/B2C/TourPackage/Japan/IndexImages/222172.jpg\"/></a></li><li><a href=\"https://www.liontravel.com/promotion/japan/maple/scenery.html?Sprima=trs07R2H02\" target=\"_blank\"><img alt=\"日本賞楓預購優惠\" src=\"//static.liontech.com.tw/ADLinkHtml/B2C/TourPackage/Japan/IndexImages/221936.jpg\"/></a></li></ul></div></div></ul>\n",
      "--------------------------------------------------------------------------------\n",
      "<ul class=\"colWidth\"><li><span class=\"icon\"></span><span class=\"label\">已成團！</span><span class=\"title\"><a href=\"https://www.uplantravel.com/promotion/guarantee/justgo/japan.html\" target=\"_blank\">團團精選、團團超值、免揪免湊、已成團！</a></span></li><li><span class=\"icon\"></span><span class=\"label\">★主打星</span><span class=\"title\"><a href=\"/webpd/webpdsh00.aspx?skind=1&amp;sprod=sjp05cct17&amp;Sprima=trs07R3A11\" target=\"_blank\">北海道大人氣★暑假美瑛、青池花田價$33900起</a></span></li><li><span class=\"icon\"></span><span class=\"label\">限量促銷</span><span class=\"title\"><a href=\"/webpd/webpdsh00.aspx?skind=1&amp;sprod=sjx19kixss&amp;Sprima=trs07R3A11\" target=\"_blank\">京都、大阪、神戶、奈良大和風情五日 29,900起</a></span></li><li><span class=\"icon\"></span><span class=\"label\">快來搶購</span><span class=\"title\"><a href=\"https://travel.liontravel.com/detail?normgroupid=4f5bdeb5-f29f-4522-a41d-a94b50f0ea92&amp;groupid=19jf612br-t&amp;Sprima=trs07R3A11\" target=\"_blank\">九州鐵道.百選瀑布.小濱足湯.長崎夜景六日23,900</a></span></li></ul>\n",
      "--------------------------------------------------------------------------------\n",
      "<ul class=\"colWidth\"><li><span class=\"icon\"></span><span class=\"label\">超級優惠</span><span class=\"title\"><a href=\"https://www.liontravel.com/promotion/japan/onsale/chinaairline.html?Sprima=trs07R3A11\" target=\"_blank\">精選最低優惠、提供優質行程、限量團體即時搶！</a></span></li><li><span class=\"icon\"></span><span class=\"label\">東京出清</span><span class=\"title\"><a href=\"/webpd/webpdsh00.aspx?skind=1&amp;sprod=sjt05nrt2b&amp;Sprima=trs07R3A11\" target=\"_blank\">【迪士尼專車接送】蔦屋書店.浅草寺$18,980起</a></span></li><li><span class=\"icon\"></span><span class=\"label\">市場最低</span><span class=\"title\"><a href=\"https://travel.liontravel.com/detail?normgroupid=b5d3bb56-9733-4b45-ad26-9c4452ef261b&amp;groupid=19js721cia-t&amp;Sprima=trs07R3A11\" target=\"_blank\">東北升等五星飯店+3晚溫泉+螃蟹吃到飽$26,888</a></span></li><li><span class=\"icon\"></span><span class=\"label\">保證入住</span><span class=\"title\"><a href=\"https://travel.liontravel.com/detail?normgroupid=2452ab6b-fae0-4596-a5bb-c79b64bca44d&amp;groupid=19jo702cih-t&amp;Sprima=trs07R3A11\" target=\"_blank\">保住喜璃癒志系列飯店.普天滿宮.海博館$29300起</a></span></li></ul>\n",
      "--------------------------------------------------------------------------------\n",
      "<ul class=\"colWidth\">\n",
      "<li>\n",
      "<span class=\"photoFrame\"><span class=\"shadow\"><span class=\"img\">\n",
      "<img src=\"/GentblImg/1trs/07/0737p.jpg?201906060137\"/></span></span></span>\n",
      "<span class=\"title multiline\"><a href=\"/WebPd/webpdsh00.aspx?sKind=1&amp;sProd=SJT19SST01\" title=\"《暑降促銷》東京迪士尼.三麗鷗KITTY樂園.猿橋.淺間神社.台場.螃蟹溫泉五日\">《暑降促銷》東京迪士尼.三麗鷗KITTY樂園.猿橋.淺間神社.台場.螃蟹溫泉五日</a></span>\n",
      "<span class=\"amount\"><a href=\"/WebPd/WebPdse01.aspx?EXA=%e6%9a%91%e9%99%8d%e6%9d%b1%e4%ba%ac%e8%bf%aa%e5%a3%ab%e5%b0%bc%e4%b8%89%e9%ba%97%e9%b7%975%e6%97%a5&amp;sline=6\" target=\"_top\" title=\"《暑降促銷》東京迪士尼.三麗鷗KITTY樂園.猿橋.淺間神社.台場.螃蟹溫泉五日\"><span class=\"txt\">$29,900</span><span>起 </span></a></span>\n",
      "<span class=\"text\">這夏省很大！暑假出發行程，心動價回饋給您，把握倒數報名機會！</span>\n",
      "</li>\n",
      "</ul>\n",
      "--------------------------------------------------------------------------------\n",
      "<ul class=\"colWidth\">\n",
      "<li>\n",
      "<span><a href=\"/webpd/webpdsh00.aspx?sKind=1&amp;sProd=SJP05ACS18\" title=\"暑假促銷－花戀北海道.四季彩之丘.余市威士忌酒廠.富田農場花田.小樽運河漫遊.美人湯美食五日\">暑假促銷－花戀北海道.四季彩之丘.余市威士忌酒廠.富田農場花田.小樽運河漫遊.美人湯美食五日</a></span>\n",
      "<span class=\"text2\">出團日期：06/30、07/07     \r\n",
      "<a href=\"/webpd/webpdse01.aspx?EXA=%e6%9a%91%e9%99%8d%e8%8a%b1%e6%88%80%e5%8c%97%e6%b5%b7%e9%81%93%e6%97%ad%e5%8d%835%e6%97%a5&amp;sline=6\" target=\"_top\" title=\"暑假促銷－花戀北海道.四季彩之丘.余市威士忌酒廠.富田農場花田.小樽運河漫遊.美人湯美食五日\"> ..more</a></span>\n",
      "<span class=\"amount\"><a href=\"/webpd/webpdse01.aspx?EXA=%e6%9a%91%e9%99%8d%e8%8a%b1%e6%88%80%e5%8c%97%e6%b5%b7%e9%81%93%e6%97%ad%e5%8d%835%e6%97%a5&amp;sline=6\" target=\"_top\" title=\"暑假促銷－花戀北海道.四季彩之丘.余市威士忌酒廠.富田農場花田.小樽運河漫遊.美人湯美食五日\"><span class=\"txt\">$37,900</span><span>起 </span></a></span>\n",
      "</li>\n",
      "</ul>\n",
      "--------------------------------------------------------------------------------\n",
      "<ul class=\"colWidth\">\n",
      "<li>\n",
      "<span><a href=\"/webpd/webpdsh00.aspx?sKind=1&amp;sProd=SJP05CCT17\" title=\"暑假促銷－花戀北海道.美瑛青池.富田農場花田.旭山動物園.銀河流星瀑布.小樽漫遊.螃蟹溫泉五日\">暑假促銷－花戀北海道.美瑛青池.富田農場花田.旭山動物園.銀河流星瀑布.小樽漫遊.螃蟹溫泉五日</a></span>\n",
      "<span class=\"text2\">出團日期：07/02、07/08、07/14     \r\n",
      "<a href=\"/webpd/webpdse01.aspx?EXA=%e6%9a%91%e9%99%8d%e8%8a%b1%e6%88%80%e5%8c%97%e6%b5%b7%e9%81%93%e9%9d%92%e6%b1%a05%e6%97%a5&amp;sline=6\" target=\"_top\" title=\"暑假促銷－花戀北海道.美瑛青池.富田農場花田.旭山動物園.銀河流星瀑布.小樽漫遊.螃蟹溫泉五日\"> ..more</a></span>\n",
      "<span class=\"amount\"><a href=\"/webpd/webpdse01.aspx?EXA=%e6%9a%91%e9%99%8d%e8%8a%b1%e6%88%80%e5%8c%97%e6%b5%b7%e9%81%93%e9%9d%92%e6%b1%a05%e6%97%a5&amp;sline=6\" target=\"_top\" title=\"暑假促銷－花戀北海道.美瑛青池.富田農場花田.旭山動物園.銀河流星瀑布.小樽漫遊.螃蟹溫泉五日\"><span class=\"txt\">$33,900</span><span>起 </span></a></span>\n",
      "</li>\n",
      "</ul>\n",
      "--------------------------------------------------------------------------------\n",
      "<ul class=\"colWidth\">\n",
      "<li>\n",
      "<span><a href=\"/webpd/webpdsh00.aspx?sKind=1&amp;sProd=SJX08KKNNN\" title=\"【暑假促銷】祕境古道熊野那智大社～那智瀑布.三段壁.伊勢神宮.海女表演.伊賀忍者.DIY.溫泉五日\">【暑假促銷】祕境古道熊野那智大社～那智瀑布.三段壁.伊勢神宮.海女表演.伊賀忍者.DIY.溫泉五日</a></span>\n",
      "<span class=\"text2\">出團日期：07/01、07/02、07/05     \r\n",
      "<a href=\"/webpd/webpdse01.aspx?EXA=%e6%9a%91%e9%99%8d%e5%8d%97%e7%b4%80%e6%b5%b7%e5%a5%b3%e7%be%8e%e9%a5%8c%e5%90%8d%e6%b9%af5%e6%97%a5&amp;sline=6\" target=\"_top\" title=\"【暑假促銷】祕境古道熊野那智大社～那智瀑布.三段壁.伊勢神宮.海女表演.伊賀忍者.DIY.溫泉五日\"> ..more</a></span>\n",
      "<span class=\"amount\"><a href=\"/webpd/webpdse01.aspx?EXA=%e6%9a%91%e9%99%8d%e5%8d%97%e7%b4%80%e6%b5%b7%e5%a5%b3%e7%be%8e%e9%a5%8c%e5%90%8d%e6%b9%af5%e6%97%a5&amp;sline=6\" target=\"_top\" title=\"【暑假促銷】祕境古道熊野那智大社～那智瀑布.三段壁.伊勢神宮.海女表演.伊賀忍者.DIY.溫泉五日\"><span class=\"txt\">$33,900</span><span>起 </span></a></span>\n",
      "</li>\n",
      "</ul>\n",
      "--------------------------------------------------------------------------------\n",
      "<ul class=\"colWidth\">\n",
      "<li>\n",
      "<span><a href=\"/webpd/webpdsh00.aspx?sKind=1&amp;sProd=SJX2019BBQ\" title=\"【湖畔戲水親子BBQ】京阪奈三都.可愛草屋群甜點世界～奈良梅花鹿公園.國寶彥根城.環球影城五日\">【湖畔戲水親子BBQ】京阪奈三都.可愛草屋群甜點世界～奈良梅花鹿公園.國寶彥根城.環球影城五日</a></span>\n",
      "<span class=\"text2\">出團日期：07/13、07/16、07/17   獨家特賣  \r\n",
      "<a href=\"/webpd/webpdse01.aspx?EXA=%e6%9a%91%e9%99%8d%e4%b8%89%e9%83%bd%e8%a6%aa%e5%ad%90BBQ%e7%94%9c%e9%bb%9e%e7%92%b0%e7%90%835%e6%97%a5&amp;sline=6\" target=\"_top\" title=\"【湖畔戲水親子BBQ】京阪奈三都.可愛草屋群甜點世界～奈良梅花鹿公園.國寶彥根城.環球影城五日\"> ..more</a></span>\n",
      "<span class=\"amount\"><a href=\"/webpd/webpdse01.aspx?EXA=%e6%9a%91%e9%99%8d%e4%b8%89%e9%83%bd%e8%a6%aa%e5%ad%90BBQ%e7%94%9c%e9%bb%9e%e7%92%b0%e7%90%835%e6%97%a5&amp;sline=6\" target=\"_top\" title=\"【湖畔戲水親子BBQ】京阪奈三都.可愛草屋群甜點世界～奈良梅花鹿公園.國寶彥根城.環球影城五日\"><span class=\"txt\">$33,900</span><span>起 </span></a></span>\n",
      "</li>\n",
      "</ul>\n",
      "--------------------------------------------------------------------------------\n"
     ]
    }
   ],
   "source": [
    "from bs4 import BeautifulSoup as bs \n",
    "soup = bs(res.text,\"lxml\")\n",
    "# soup.select(\"a\")\n",
    "ulTags = soup.select(\"div#content ul.colWidth\")\n",
    "for ul in ulTags[:10]:\n",
    "    print(ul)\n",
    "    print(\"-\"*80)"
   ]
  },
  {
   "cell_type": "code",
   "execution_count": 25,
   "metadata": {},
   "outputs": [
    {
     "name": "stdout",
     "output_type": "stream",
     "text": [
      "<ul class=\"colWidth\"><li><span class=\"item\"><span>旅遊地區</span></span><span class=\"deputyNav\"><span><a href=\"/tourpackage/us/?Sprima=00trsR1G01\" title=\"美國\">美國</a></span><span><a href=\"/tourpackage/ca/?Sprima=00trsR1G01\" title=\"加拿大\">加拿大</a></span><span><a href=\"/tourpackage/pacificislands/?Sprima=00trsR1G01\" title=\"關島/帛琉/馬爾地夫/大溪地\">太平洋小島</a></span><span><a href=\"/tourpackage/australia/?Sprima=00trsR1G01\" title=\"澳洲\">澳洲</a></span><span><a href=\"/tourpackage/newzealand/?Sprima=00trsR1G01\" title=\"紐西蘭\">紐西蘭</a></span><span><a href=\"/tourpackage/eu/middleeurope-westerneurope.aspx?Sprima=00trsR1G01\" title=\"中西歐\">中西歐</a></span><span><a href=\"/tourpackage/eu/easterneurope-russia.aspx?Sprima=00trsR1G01\" title=\"東歐/俄羅斯\">東歐/俄羅斯</a></span><span><a href=\"/tourpackage/eu/southerneurope-northerneurope.aspx?Sprima=00trsR1G01\" title=\"南/北歐\">南/北歐</a></span><span><a href=\"/tourpackage/middleeast/?Sprima=00trsR1G01\" title=\"土耳其/杜拜/約旦/以色列\">中東</a></span><span><a href=\"/tourpackage/africa/?Sprima=00trsR1G01\" title=\"埃及/南非/肯亞/模里西斯/塞席爾\">非洲</a></span><span><a href=\"/tourpackage/southasia/?Sprima=00trsR1G01\" title=\"印度/尼泊爾/斯里蘭卡\">中/南亞</a></span><span><a href=\"/tourpackage/china/?Sprima=00trsR1G01\" title=\"大陸\">大陸</a></span><span><a href=\"/tourpackage/china/hongkong-macau.aspx?Sprima=00trsR1G01\" title=\"香港/澳門/澳珠圳\">港澳</a></span><span><a href=\"/tourpackage/japan/?Sprima=00trsR1G01\" title=\"日本\">日本</a></span><span><a href=\"/tourpackage/theme/magicjapan.aspx?Sprima=00trsR1G01\" title=\"日本嚴選\">日本嚴選</a></span><span><a href=\"/tourpackage/korea/?Sprima=00trsR1G01\" title=\"韓國\">韓國</a></span><span><a href=\"/tourpackage/theme/magickorea.aspx?Sprima=00trsR1G01\" title=\"韓國嚴選\">韓國嚴選</a></span><span><a href=\"/tourpackage/asia/thailand.aspx?Sprima=00trsR1G01\" title=\"泰國\">泰國</a></span><span><a href=\"/tourpackage/asia/malaysia.aspx?Sprima=00trsR1G01\" title=\"馬來西亞\">馬來西亞</a></span><span><a href=\"/tourpackage/asia/singapore.aspx?Sprima=00trsR1G01\" title=\"新加坡\">新加坡</a></span><span><a href=\"/tourpackage/asia/bali.aspx?Sprima=00trsR1G01\" title=\"峇里島\">峇里島</a></span><span><a href=\"/tourpackage/asia/vietnam.aspx?Sprima=00trsR1G01\" title=\"越南/緬甸/寮國\">越南/緬甸</a></span><span><a href=\"/tourpackage/asia/philippines.aspx?Sprima=00trsR1G01\" title=\"馬尼拉/長灘島/宿霧/巴拉望\">菲律賓</a></span><span><a href=\"/tourpackage/asia/cambodia.aspx?Sprima=00trsR1G01\" title=\"吳哥窟/西哈努克\">吳哥窟</a></span><span><a href=\"/tourpackage/theme/central-south-america.aspx?Sprima=00trsR1G01\" target=\"_blank\" title=\"中南美洲\">中南美洲</a></span></span></li></ul>\n",
      "--------------------------------------------------------------------------------\n",
      "<ul class=\"colWidth\"><li><span class=\"item\"><span>旅遊城市</span></span><span class=\"deputyNav\"><span><a href=\"/tourpackage/japan/kanto.aspx?Sprima=00trsR4G01\" title=\"關東(東京/伊豆/日光)\">關東(東京/伊豆/日光)</a></span><span><a href=\"/tourpackage/japan/kansai.aspx?Sprima=00trsR4G01\" title=\"關西(大阪/岡山/廣島/四國)\">關西(大阪/岡山/廣島/四國)</a></span><span><a href=\"/tourpackage/japan/hokkaido.aspx?Sprima=00trsR4G01\" title=\"北海道(札幌/函館/旭川)\">北海道(札幌/函館/旭川)</a></span><span><a href=\"/tourpackage/japan/hokuriku.aspx?Sprima=00trsR4G01\" title=\"北陸(名古屋/立山黑部)\">北陸(名古屋/立山黑部)</a></span><span><a href=\"/tourpackage/japan/kyushu.aspx?Sprima=00trsR4G01\" title=\"九州(福岡/宮崎/鹿兒島)\">九州(福岡/宮崎/鹿兒島)</a></span><span><a href=\"/tourpackage/japan/tohoku.aspx?Sprima=00trsR4G01\" title=\"東北(仙台/山形/青森/秋田)\">東北(仙台/山形/青森/秋田)</a></span><span><a href=\"/tourpackage/japan/okinawa.aspx?Sprima=00trsR4G01\" title=\"沖繩(石垣/宮古/與論)\">沖繩(石垣/宮古/與論)</a></span></span></li></ul>\n",
      "--------------------------------------------------------------------------------\n",
      "<ul class=\"colWidth\"><div class=\"item\"><dl><dt>國外團體旅遊</dt><dd>日本館</dd></dl></div><div class=\"lightBox\"><div class=\"lightBox_img\"><ul><li><a href=\"https://www.liontravel.com/promotion/japan/onsale/hotsale.html?Sprima=trs07R2H02\" target=\"_blank\"><img alt=\"感恩88\" src=\"//static.liontech.com.tw/ADLinkHtml/B2C/TourPackage/Japan/IndexImages/222642.jpg\"/></a></li><li><a href=\"https://www.liontravel.com/promotion/holiday/summervacation/tour-japan.html?Sprima=trs07R2H02\" target=\"_blank\"><img alt=\"暑假親子小孩最高省萬元\" src=\"//static.liontech.com.tw/ADLinkHtml/B2C/TourPackage/Japan/IndexImages/220705.jpg\"/></a></li><li><a href=\"https://www.liontravel.com/promotion/japan/onsale/chinaairline.html?Sprima=trs07R2H02#ML114041\" target=\"_blank\"><img alt=\"日本揪團省很大\" src=\"//static.liontech.com.tw/ADLinkHtml/B2C/TourPackage/Japan/IndexImages/219696.jpg\"/></a></li><li><a href=\"https://www.liontravel.com/promotion/holiday/moon_festival/tour-japan.html?Sprima=trs07R2H02\" target=\"_blank\"><img alt=\"中秋連休\" src=\"//static.liontech.com.tw/ADLinkHtml/B2C/TourPackage/Japan/IndexImages/209211.jpg\"/></a></li><li><a href=\"https://www.liontravel.com/promotion/japan/tohoku/tour.html?Sprima=trs07R2H02\" target=\"_blank\"><img alt=\"帶爸媽出國全家85折\" src=\"//static.liontech.com.tw/ADLinkHtml/B2C/TourPackage/Japan/IndexImages/222172.jpg\"/></a></li><li><a href=\"https://www.liontravel.com/promotion/japan/maple/scenery.html?Sprima=trs07R2H02\" target=\"_blank\"><img alt=\"日本賞楓預購優惠\" src=\"//static.liontech.com.tw/ADLinkHtml/B2C/TourPackage/Japan/IndexImages/221936.jpg\"/></a></li></ul></div></div></ul>\n",
      "--------------------------------------------------------------------------------\n",
      "<ul class=\"colWidth\"><li><span class=\"icon\"></span><span class=\"label\">已成團！</span><span class=\"title\"><a href=\"https://www.uplantravel.com/promotion/guarantee/justgo/japan.html\" target=\"_blank\">團團精選、團團超值、免揪免湊、已成團！</a></span></li><li><span class=\"icon\"></span><span class=\"label\">★主打星</span><span class=\"title\"><a href=\"/webpd/webpdsh00.aspx?skind=1&amp;sprod=sjp05cct17&amp;Sprima=trs07R3A11\" target=\"_blank\">北海道大人氣★暑假美瑛、青池花田價$33900起</a></span></li><li><span class=\"icon\"></span><span class=\"label\">限量促銷</span><span class=\"title\"><a href=\"/webpd/webpdsh00.aspx?skind=1&amp;sprod=sjx19kixss&amp;Sprima=trs07R3A11\" target=\"_blank\">京都、大阪、神戶、奈良大和風情五日 29,900起</a></span></li><li><span class=\"icon\"></span><span class=\"label\">快來搶購</span><span class=\"title\"><a href=\"https://travel.liontravel.com/detail?normgroupid=4f5bdeb5-f29f-4522-a41d-a94b50f0ea92&amp;groupid=19jf612br-t&amp;Sprima=trs07R3A11\" target=\"_blank\">九州鐵道.百選瀑布.小濱足湯.長崎夜景六日23,900</a></span></li></ul>\n",
      "--------------------------------------------------------------------------------\n",
      "<ul class=\"colWidth\"><li><span class=\"icon\"></span><span class=\"label\">超級優惠</span><span class=\"title\"><a href=\"https://www.liontravel.com/promotion/japan/onsale/chinaairline.html?Sprima=trs07R3A11\" target=\"_blank\">精選最低優惠、提供優質行程、限量團體即時搶！</a></span></li><li><span class=\"icon\"></span><span class=\"label\">東京出清</span><span class=\"title\"><a href=\"/webpd/webpdsh00.aspx?skind=1&amp;sprod=sjt05nrt2b&amp;Sprima=trs07R3A11\" target=\"_blank\">【迪士尼專車接送】蔦屋書店.浅草寺$18,980起</a></span></li><li><span class=\"icon\"></span><span class=\"label\">市場最低</span><span class=\"title\"><a href=\"https://travel.liontravel.com/detail?normgroupid=b5d3bb56-9733-4b45-ad26-9c4452ef261b&amp;groupid=19js721cia-t&amp;Sprima=trs07R3A11\" target=\"_blank\">東北升等五星飯店+3晚溫泉+螃蟹吃到飽$26,888</a></span></li><li><span class=\"icon\"></span><span class=\"label\">保證入住</span><span class=\"title\"><a href=\"https://travel.liontravel.com/detail?normgroupid=2452ab6b-fae0-4596-a5bb-c79b64bca44d&amp;groupid=19jo702cih-t&amp;Sprima=trs07R3A11\" target=\"_blank\">保住喜璃癒志系列飯店.普天滿宮.海博館$29300起</a></span></li></ul>\n",
      "--------------------------------------------------------------------------------\n",
      "<ul class=\"colWidth\">\n",
      "<li>\n",
      "<span class=\"photoFrame\"><span class=\"shadow\"><span class=\"img\">\n",
      "<img src=\"/GentblImg/1trs/07/0737p.jpg?201906060137\"/></span></span></span>\n",
      "<span class=\"title multiline\"><a href=\"/WebPd/webpdsh00.aspx?sKind=1&amp;sProd=SJT19SST01\" title=\"《暑降促銷》東京迪士尼.三麗鷗KITTY樂園.猿橋.淺間神社.台場.螃蟹溫泉五日\">《暑降促銷》東京迪士尼.三麗鷗KITTY樂園.猿橋.淺間神社.台場.螃蟹溫泉五日</a></span>\n",
      "<span class=\"amount\"><a href=\"/WebPd/WebPdse01.aspx?EXA=%e6%9a%91%e9%99%8d%e6%9d%b1%e4%ba%ac%e8%bf%aa%e5%a3%ab%e5%b0%bc%e4%b8%89%e9%ba%97%e9%b7%975%e6%97%a5&amp;sline=6\" target=\"_top\" title=\"《暑降促銷》東京迪士尼.三麗鷗KITTY樂園.猿橋.淺間神社.台場.螃蟹溫泉五日\"><span class=\"txt\">$29,900</span><span>起 </span></a></span>\n",
      "<span class=\"text\">這夏省很大！暑假出發行程，心動價回饋給您，把握倒數報名機會！</span>\n",
      "</li>\n",
      "</ul>\n",
      "--------------------------------------------------------------------------------\n",
      "<ul class=\"colWidth\">\n",
      "<li>\n",
      "<span><a href=\"/webpd/webpdsh00.aspx?sKind=1&amp;sProd=SJP05ACS18\" title=\"暑假促銷－花戀北海道.四季彩之丘.余市威士忌酒廠.富田農場花田.小樽運河漫遊.美人湯美食五日\">暑假促銷－花戀北海道.四季彩之丘.余市威士忌酒廠.富田農場花田.小樽運河漫遊.美人湯美食五日</a></span>\n",
      "<span class=\"text2\">出團日期：06/30、07/07     \r\n",
      "<a href=\"/webpd/webpdse01.aspx?EXA=%e6%9a%91%e9%99%8d%e8%8a%b1%e6%88%80%e5%8c%97%e6%b5%b7%e9%81%93%e6%97%ad%e5%8d%835%e6%97%a5&amp;sline=6\" target=\"_top\" title=\"暑假促銷－花戀北海道.四季彩之丘.余市威士忌酒廠.富田農場花田.小樽運河漫遊.美人湯美食五日\"> ..more</a></span>\n",
      "<span class=\"amount\"><a href=\"/webpd/webpdse01.aspx?EXA=%e6%9a%91%e9%99%8d%e8%8a%b1%e6%88%80%e5%8c%97%e6%b5%b7%e9%81%93%e6%97%ad%e5%8d%835%e6%97%a5&amp;sline=6\" target=\"_top\" title=\"暑假促銷－花戀北海道.四季彩之丘.余市威士忌酒廠.富田農場花田.小樽運河漫遊.美人湯美食五日\"><span class=\"txt\">$37,900</span><span>起 </span></a></span>\n",
      "</li>\n",
      "</ul>\n",
      "--------------------------------------------------------------------------------\n",
      "<ul class=\"colWidth\">\n",
      "<li>\n",
      "<span><a href=\"/webpd/webpdsh00.aspx?sKind=1&amp;sProd=SJP05CCT17\" title=\"暑假促銷－花戀北海道.美瑛青池.富田農場花田.旭山動物園.銀河流星瀑布.小樽漫遊.螃蟹溫泉五日\">暑假促銷－花戀北海道.美瑛青池.富田農場花田.旭山動物園.銀河流星瀑布.小樽漫遊.螃蟹溫泉五日</a></span>\n",
      "<span class=\"text2\">出團日期：07/02、07/08、07/14     \r\n",
      "<a href=\"/webpd/webpdse01.aspx?EXA=%e6%9a%91%e9%99%8d%e8%8a%b1%e6%88%80%e5%8c%97%e6%b5%b7%e9%81%93%e9%9d%92%e6%b1%a05%e6%97%a5&amp;sline=6\" target=\"_top\" title=\"暑假促銷－花戀北海道.美瑛青池.富田農場花田.旭山動物園.銀河流星瀑布.小樽漫遊.螃蟹溫泉五日\"> ..more</a></span>\n",
      "<span class=\"amount\"><a href=\"/webpd/webpdse01.aspx?EXA=%e6%9a%91%e9%99%8d%e8%8a%b1%e6%88%80%e5%8c%97%e6%b5%b7%e9%81%93%e9%9d%92%e6%b1%a05%e6%97%a5&amp;sline=6\" target=\"_top\" title=\"暑假促銷－花戀北海道.美瑛青池.富田農場花田.旭山動物園.銀河流星瀑布.小樽漫遊.螃蟹溫泉五日\"><span class=\"txt\">$33,900</span><span>起 </span></a></span>\n",
      "</li>\n",
      "</ul>\n",
      "--------------------------------------------------------------------------------\n",
      "<ul class=\"colWidth\">\n",
      "<li>\n",
      "<span><a href=\"/webpd/webpdsh00.aspx?sKind=1&amp;sProd=SJX08KKNNN\" title=\"【暑假促銷】祕境古道熊野那智大社～那智瀑布.三段壁.伊勢神宮.海女表演.伊賀忍者.DIY.溫泉五日\">【暑假促銷】祕境古道熊野那智大社～那智瀑布.三段壁.伊勢神宮.海女表演.伊賀忍者.DIY.溫泉五日</a></span>\n",
      "<span class=\"text2\">出團日期：07/01、07/02、07/05     \r\n",
      "<a href=\"/webpd/webpdse01.aspx?EXA=%e6%9a%91%e9%99%8d%e5%8d%97%e7%b4%80%e6%b5%b7%e5%a5%b3%e7%be%8e%e9%a5%8c%e5%90%8d%e6%b9%af5%e6%97%a5&amp;sline=6\" target=\"_top\" title=\"【暑假促銷】祕境古道熊野那智大社～那智瀑布.三段壁.伊勢神宮.海女表演.伊賀忍者.DIY.溫泉五日\"> ..more</a></span>\n",
      "<span class=\"amount\"><a href=\"/webpd/webpdse01.aspx?EXA=%e6%9a%91%e9%99%8d%e5%8d%97%e7%b4%80%e6%b5%b7%e5%a5%b3%e7%be%8e%e9%a5%8c%e5%90%8d%e6%b9%af5%e6%97%a5&amp;sline=6\" target=\"_top\" title=\"【暑假促銷】祕境古道熊野那智大社～那智瀑布.三段壁.伊勢神宮.海女表演.伊賀忍者.DIY.溫泉五日\"><span class=\"txt\">$33,900</span><span>起 </span></a></span>\n",
      "</li>\n",
      "</ul>\n",
      "--------------------------------------------------------------------------------\n",
      "<ul class=\"colWidth\">\n",
      "<li>\n",
      "<span><a href=\"/webpd/webpdsh00.aspx?sKind=1&amp;sProd=SJX2019BBQ\" title=\"【湖畔戲水親子BBQ】京阪奈三都.可愛草屋群甜點世界～奈良梅花鹿公園.國寶彥根城.環球影城五日\">【湖畔戲水親子BBQ】京阪奈三都.可愛草屋群甜點世界～奈良梅花鹿公園.國寶彥根城.環球影城五日</a></span>\n",
      "<span class=\"text2\">出團日期：07/13、07/16、07/17   獨家特賣  \r\n",
      "<a href=\"/webpd/webpdse01.aspx?EXA=%e6%9a%91%e9%99%8d%e4%b8%89%e9%83%bd%e8%a6%aa%e5%ad%90BBQ%e7%94%9c%e9%bb%9e%e7%92%b0%e7%90%835%e6%97%a5&amp;sline=6\" target=\"_top\" title=\"【湖畔戲水親子BBQ】京阪奈三都.可愛草屋群甜點世界～奈良梅花鹿公園.國寶彥根城.環球影城五日\"> ..more</a></span>\n",
      "<span class=\"amount\"><a href=\"/webpd/webpdse01.aspx?EXA=%e6%9a%91%e9%99%8d%e4%b8%89%e9%83%bd%e8%a6%aa%e5%ad%90BBQ%e7%94%9c%e9%bb%9e%e7%92%b0%e7%90%835%e6%97%a5&amp;sline=6\" target=\"_top\" title=\"【湖畔戲水親子BBQ】京阪奈三都.可愛草屋群甜點世界～奈良梅花鹿公園.國寶彥根城.環球影城五日\"><span class=\"txt\">$33,900</span><span>起 </span></a></span>\n",
      "</li>\n",
      "</ul>\n",
      "--------------------------------------------------------------------------------\n"
     ]
    }
   ],
   "source": [
    "# cor defCol box_2 fsf\n",
    "\n",
    "# ulTags = soup.select(\"div#content ul.colWidth\")\n",
    "ulTagsNew = soup.select(\"div#content div.cor.defCol.box_2.fsf ul.colWidth\")\n",
    "\n",
    "for ul in ulTags[:10]:\n",
    "    print(ul)\n",
    "    print(\"-\"*80)"
   ]
  }
 ],
 "metadata": {
  "kernelspec": {
   "display_name": "Python 3",
   "language": "python",
   "name": "python3"
  },
  "language_info": {
   "codemirror_mode": {
    "name": "ipython",
    "version": 3
   },
   "file_extension": ".py",
   "mimetype": "text/x-python",
   "name": "python",
   "nbconvert_exporter": "python",
   "pygments_lexer": "ipython3",
   "version": "3.7.3"
  }
 },
 "nbformat": 4,
 "nbformat_minor": 2
}
