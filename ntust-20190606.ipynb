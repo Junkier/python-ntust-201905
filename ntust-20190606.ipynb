{
 "cells": [
  {
   "cell_type": "code",
   "execution_count": 6,
   "metadata": {},
   "outputs": [],
   "source": [
    "import requests \n",
    "url = \"https://www.liontravel.com/tourpackage/japan/\"\n",
    "res = requests.get(url)\n",
    "# print(res.text)\n",
    "\n",
    "with open(\"raw-source-code.txt\",\"w\",encoding=\"utf8\") as outFile:\n",
    "    outFile.write(res.text)"
   ]
  },
  {
   "cell_type": "code",
   "execution_count": 51,
   "metadata": {
    "scrolled": true
   },
   "outputs": [],
   "source": [
    "from bs4 import BeautifulSoup as bs \n",
    "soup = bs(res.text,\"lxml\")\n",
    "# soup.select(\"a\")\n",
    "ulTags = soup.select(\"div#content ul.colWidth\")\n",
    "for ul in ulTags[:10]:\n",
    "    print(ul)\n",
    "    print(\"-\"*80)"
   ]
  },
  {
   "cell_type": "code",
   "execution_count": 50,
   "metadata": {},
   "outputs": [],
   "source": [
    "# cor defCol box_2 fsf\n",
    "\n",
    "# ulTags = soup.select(\"div#content ul.colWidth\")\n",
    "ulTagsNew = soup.select(\"div#content div.cor.defCol.box_2.fsf ul.colWidth\")\n",
    "\n",
    "for ul in ulTagsNew[:10]:\n",
    "    print(ul)\n",
    "    print(\"-\"*80)"
   ]
  },
  {
   "cell_type": "code",
   "execution_count": 106,
   "metadata": {},
   "outputs": [
    {
     "name": "stdout",
     "output_type": "stream",
     "text": [
      "<ul class=\"colWidth\">\n",
      "<li>\n",
      "<span><a href=\"/webpd/webpdsh00.aspx?sKind=1&amp;sProd=SJX08K3DIY\" title=\"【預購暑假減２０００】送四項快速通關券～避暑祕境大原三千院～京阪奈.保津川遊船.DIY體驗五日\">【預購暑假減２０００】送四項快速通關券～避暑祕境大原三千院～京阪奈.保津川遊船.DIY體驗五日</a></span>\n",
      "<span class=\"text2\">出團日期：06/28、07/03、07/05   早訂早優惠  \r\n",
      "<a href=\"/webpd/webpdse01.aspx?EXA=%e9%a0%90%e8%b3%bc%e6%9a%91%e5%81%87%e4%b8%89%e9%83%bd%e7%92%b0%e7%90%83%e5%bf%ab%e9%80%9f%e9%81%8a%e8%88%b9&amp;sline=6\" target=\"_top\" title=\"【預購暑假減２０００】送四項快速通關券～避暑祕境大原三千院～京阪奈.保津川遊船.DIY體驗五日\"> ..more</a></span>\n",
      "<span class=\"amount\"><a href=\"/webpd/webpdse01.aspx?EXA=%e9%a0%90%e8%b3%bc%e6%9a%91%e5%81%87%e4%b8%89%e9%83%bd%e7%92%b0%e7%90%83%e5%bf%ab%e9%80%9f%e9%81%8a%e8%88%b9&amp;sline=6\" target=\"_top\" title=\"【預購暑假減２０００】送四項快速通關券～避暑祕境大原三千院～京阪奈.保津川遊船.DIY體驗五日\"><span class=\"txt\">$39,900</span><span>起 </span></a></span>\n",
      "</li>\n",
      "</ul>\n",
      "--------------------------------------------------------------------------------\n",
      "06/28、07/03、07/05\n",
      "'06/28、07/03、07/05'\n",
      "name :  【預購暑假減２０００】送四項快速通關券～避暑祕境大原三千院～京阪奈.保津川遊船.DIY體驗五日\n",
      "cost :  39900\n",
      "time :  06/28、07/03、07/05\n"
     ]
    }
   ],
   "source": [
    "# print(len(ulTagsNew))\n",
    "ele = ulTagsNew[126]\n",
    "print(ele)\n",
    "print(\"-\"*80)\n",
    "\n",
    "# 名稱\n",
    "name = ele.select(\"a\")[0].text\n",
    "# print(ele.select(\"a\"))\n",
    "# print(ele.select(\"a\")[0].text)\n",
    "\n",
    "# 價位\n",
    "# print(ele.select(\"span.txt\")[0].text)\n",
    "# print(ele.select(\"span.txt\")[0].text.replace(\"$\",\"\").replace(\",\",\"\"))\n",
    "rawCost = ele.select(\"span.txt\")[0].text\n",
    "cost    = int(rawCost.replace(\"$\",\"\").replace(\",\",\"\"))\n",
    "\n",
    "# 出團日\n",
    "spanTags = ele.select(\"span.text2\")\n",
    "\n",
    "if len(spanTags)>0 :\n",
    "    time = ele.select(\"span.text2\")[0].text\n",
    "    time = time.replace(\"\\xa0\\xa0\\xa0\",\"\")\\\n",
    "               .replace(\"熱銷中\",\"\")\\\n",
    "               .replace(\"\\r\\n\",\"\")\\\n",
    "               .replace(\"..more\",\"\")\\\n",
    "               .replace(\"早訂早優惠\",\"\")\\\n",
    "               .replace(\"獨家特賣\",\"\")\\\n",
    "               .replace(\"限量搶購\",\"\")\\\n",
    "               .replace(\"出團日期：\",\"\")\\\n",
    "               .replace(\" \",\"\")\n",
    "\n",
    "else:\n",
    "    time = \"無\"\n",
    "    \n",
    "# print(spanTags)\n",
    "\n",
    "print(time)\n",
    "print(repr(time))\n",
    "\n",
    "# print(\"-\"*80)\n",
    "print(\"name : \", name)\n",
    "print(\"cost : \", cost)\n",
    "print(\"time : \", time)\n"
   ]
  },
  {
   "cell_type": "code",
   "execution_count": null,
   "metadata": {},
   "outputs": [],
   "source": []
  }
 ],
 "metadata": {
  "kernelspec": {
   "display_name": "Python 3",
   "language": "python",
   "name": "python3"
  },
  "language_info": {
   "codemirror_mode": {
    "name": "ipython",
    "version": 3
   },
   "file_extension": ".py",
   "mimetype": "text/x-python",
   "name": "python",
   "nbconvert_exporter": "python",
   "pygments_lexer": "ipython3",
   "version": "3.7.3"
  }
 },
 "nbformat": 4,
 "nbformat_minor": 2
}
