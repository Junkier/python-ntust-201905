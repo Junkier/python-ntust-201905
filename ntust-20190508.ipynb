{
 "cells": [
  {
   "cell_type": "code",
   "execution_count": 4,
   "metadata": {},
   "outputs": [
    {
     "name": "stdout",
     "output_type": "stream",
     "text": [
      "SUM :  613\n",
      "AVG :  76.625\n"
     ]
    }
   ],
   "source": [
    "A1=80\n",
    "A2=75\n",
    "A3=65\n",
    "A4=99\n",
    "A5=42\n",
    "A6=100\n",
    "A7=80\n",
    "A8=72\n",
    "\n",
    "SUM=A1+A2+A3+A4+A5+A6+A7+A8\n",
    "AVG= SUM / 8\n",
    "\n",
    "print(\"SUM : \", SUM)\n",
    "print(\"AVG : \", AVG)"
   ]
  },
  {
   "cell_type": "code",
   "execution_count": 20,
   "metadata": {},
   "outputs": [
    {
     "name": "stdout",
     "output_type": "stream",
     "text": [
      "[80, 75, 65, 99, 42, 100, 80, 72]\n",
      "65\n",
      "72\n",
      "==================================================\n",
      "[80, 75, 65, 99, 42, 100, 80, 72, 100, 200, 300]\n",
      "==================================================\n",
      "[80, 75, 99, 42, 100, 80, 72, 100, 200, 300]\n",
      "==================================================\n",
      "[80, 75, 99, 42]\n",
      "[99, 42, 100, 80, 72]\n",
      "==================================================\n",
      "0\n"
     ]
    },
    {
     "ename": "ValueError",
     "evalue": "123 is not in list",
     "output_type": "error",
     "traceback": [
      "\u001b[1;31m---------------------------------------------------------------------------\u001b[0m",
      "\u001b[1;31mValueError\u001b[0m                                Traceback (most recent call last)",
      "\u001b[1;32m<ipython-input-20-d4ec4e9e6cc3>\u001b[0m in \u001b[0;36m<module>\u001b[1;34m\u001b[0m\n\u001b[0;32m     22\u001b[0m \u001b[0mprint\u001b[0m\u001b[1;33m(\u001b[0m\u001b[1;34m\"=\"\u001b[0m\u001b[1;33m*\u001b[0m\u001b[1;36m50\u001b[0m\u001b[1;33m)\u001b[0m\u001b[1;33m\u001b[0m\u001b[1;33m\u001b[0m\u001b[0m\n\u001b[0;32m     23\u001b[0m \u001b[0mprint\u001b[0m\u001b[1;33m(\u001b[0m\u001b[0mscores\u001b[0m\u001b[1;33m.\u001b[0m\u001b[0mindex\u001b[0m\u001b[1;33m(\u001b[0m\u001b[1;36m80\u001b[0m\u001b[1;33m)\u001b[0m\u001b[1;33m)\u001b[0m\u001b[1;33m\u001b[0m\u001b[1;33m\u001b[0m\u001b[0m\n\u001b[1;32m---> 24\u001b[1;33m \u001b[0mprint\u001b[0m\u001b[1;33m(\u001b[0m\u001b[0mscores\u001b[0m\u001b[1;33m.\u001b[0m\u001b[0mindex\u001b[0m\u001b[1;33m(\u001b[0m\u001b[1;36m123\u001b[0m\u001b[1;33m)\u001b[0m\u001b[1;33m)\u001b[0m\u001b[1;33m\u001b[0m\u001b[1;33m\u001b[0m\u001b[0m\n\u001b[0m",
      "\u001b[1;31mValueError\u001b[0m: 123 is not in list"
     ]
    }
   ],
   "source": [
    "scores = [80,75,65,99,42,100,80,72]\n",
    "print(scores)\n",
    "print(scores[2])\n",
    "print(scores[-1])\n",
    "\n",
    "print(\"=\"*50)\n",
    "\n",
    "scores.append(100)\n",
    "scores.extend([200,300])\n",
    "print(scores)\n",
    "\n",
    "print(\"=\"*50)\n",
    "\n",
    "scores.pop(2)\n",
    "print(scores)\n",
    "\n",
    "print(\"=\"*50)\n",
    "\n",
    "print(scores[0:4])\n",
    "print(scores[2:7])\n",
    "\n",
    "print(\"=\"*50)\n",
    "print(scores.index(80))\n",
    "print(scores.index(123))\n"
   ]
  },
  {
   "cell_type": "code",
   "execution_count": 24,
   "metadata": {},
   "outputs": [
    {
     "name": "stdout",
     "output_type": "stream",
     "text": [
      "[123, [2, 3, 4], True, 'a', 'b']\n",
      "a,b,c,d,e\n",
      "a___b___c___d___e\n"
     ]
    }
   ],
   "source": [
    "test = [123, [2,3,4], True , \"a\" , \"b\"]\n",
    "print(test)\n",
    "\n",
    "test2 = [\"a\",\"b\",\"c\",\"d\",\"e\"]\n",
    "print(\",\".join(test2))\n",
    "print(\"___\".join(test2))\n"
   ]
  },
  {
   "cell_type": "code",
   "execution_count": 26,
   "metadata": {},
   "outputs": [
    {
     "name": "stdout",
     "output_type": "stream",
     "text": [
      "SUM :  710\n",
      "AVG :  78.88888888888889\n"
     ]
    }
   ],
   "source": [
    "# scores = [80,75,65,99,42,100,80,72]\n",
    "scores = [80,75,65,99,42,100,80,72,97]\n",
    "\n",
    "\n",
    "SUM = sum(scores)\n",
    "AVG = SUM / len(scores)\n",
    "\n",
    "print(\"SUM : \", SUM)\n",
    "print(\"AVG : \", AVG)"
   ]
  },
  {
   "cell_type": "code",
   "execution_count": 36,
   "metadata": {},
   "outputs": [
    {
     "name": "stdout",
     "output_type": "stream",
     "text": [
      "{'Jeff': 80, 'Leo': 75, 'Keven': 65}\n",
      "80\n",
      "{'Jeff': 90, 'Leo': 75, 'Keven': 65, 'Steve': 100}\n",
      "==================================================\n",
      "True\n",
      "False\n",
      "==================================================\n",
      "Keys :  dict_keys(['Jeff', 'Leo', 'Keven', 'Steve'])\n",
      "<class 'dict'>\n",
      "<class 'dict_keys'>\n",
      "['Jeff', 'Leo', 'Keven', 'Steve']\n",
      "<class 'list'>\n"
     ]
    }
   ],
   "source": [
    "scoresDict = {\n",
    "    \"Jeff\":80,\n",
    "    \"Leo\":75,\n",
    "    \"Keven\":65\n",
    "}\n",
    "print(scoresDict)\n",
    "\n",
    "print(scoresDict[\"Jeff\"])\n",
    "\n",
    "scoresDict[\"Jeff\"] = 90\n",
    "scoresDict[\"Steve\"] =100\n",
    "\n",
    "print(scoresDict)\n",
    "\n",
    "print(\"=\"*50)\n",
    "\n",
    "print(\"Jeff\" in scoresDict)\n",
    "print(\"Apple\" in scoresDict)\n",
    "\n",
    "print(\"=\"*50)\n",
    "\n",
    "print(\"Keys : \",scoresDict.keys())\n",
    "print(type(scoresDict))\n",
    "print(type(scoresDict.keys()))\n",
    "print(list(scoresDict.keys()))\n",
    "print( type( list( scoresDict.keys() ) ) )"
   ]
  },
  {
   "cell_type": "code",
   "execution_count": 51,
   "metadata": {},
   "outputs": [
    {
     "name": "stdout",
     "output_type": "stream",
     "text": [
      "SUM :  710\n",
      "AVG :  78.88888888888889\n"
     ]
    }
   ],
   "source": [
    "# scores = [80,75,65,99,42,100,80,72,97]\n",
    "\n",
    "scoresDict = {\n",
    "    \"Jeff\":80,\n",
    "    \"Leo\":75,\n",
    "    \"Keven\":65,    \n",
    "    \"Steve\":99,\n",
    "    \"Apple\":42,\n",
    "    \"Elle\":100,\n",
    "    \"Jenny\":80,\n",
    "    \"Julia\":72,\n",
    "    \"Benson\":97\n",
    "}\n",
    "\n",
    "# print(scoresDict.values())\n",
    "# print(len(scoresDict))\n",
    "\n",
    "SUM = sum(scoresDict.values())\n",
    "AVG = SUM / len(scoresDict)\n",
    "\n",
    "print(\"SUM : \", SUM)\n",
    "print(\"AVG : \", AVG)"
   ]
  },
  {
   "cell_type": "code",
   "execution_count": 55,
   "metadata": {},
   "outputs": [
    {
     "name": "stdout",
     "output_type": "stream",
     "text": [
      "<class 'set'>\n",
      "<class 'set'>\n",
      "[1, 2, 3, 2, 4, 5, 6, 8, 4, 2, 32, 1, 3, 2, 3]\n",
      "{32, 1, 2, 3, 4, 5, 6, 8}\n",
      "==================================================\n",
      "{4, 5, 6}\n"
     ]
    }
   ],
   "source": [
    "s1 = {1,2,3,4,5,6}\n",
    "s2 = {4,5,6,7,8}\n",
    "\n",
    "print(type(s1))\n",
    "print(type(s2))\n",
    "\n",
    "s3 = [1,2,3,2,4,5,6,8,4,2,32,1,3,2,3]\n",
    "print(s3)\n",
    "print( set(s3) )\n",
    "\n",
    "print(\"=\"*50)\n",
    "\n",
    "print(s1 & s2)"
   ]
  }
 ],
 "metadata": {
  "kernelspec": {
   "display_name": "Python 3",
   "language": "python",
   "name": "python3"
  },
  "language_info": {
   "codemirror_mode": {
    "name": "ipython",
    "version": 3
   },
   "file_extension": ".py",
   "mimetype": "text/x-python",
   "name": "python",
   "nbconvert_exporter": "python",
   "pygments_lexer": "ipython3",
   "version": "3.7.3"
  }
 },
 "nbformat": 4,
 "nbformat_minor": 2
}
