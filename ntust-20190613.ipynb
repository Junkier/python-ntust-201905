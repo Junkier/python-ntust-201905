{
 "cells": [
  {
   "cell_type": "code",
   "execution_count": 2,
   "metadata": {},
   "outputs": [
    {
     "data": {
      "text/plain": [
       "<Response [200]>"
      ]
     },
     "execution_count": 2,
     "metadata": {},
     "output_type": "execute_result"
    }
   ],
   "source": [
    "import requests \n",
    "url = \"http://www.taiwanlottery.com.tw/lotto/Lotto649/history.aspx\"\n",
    "payload = {\n",
    "    \"__EVENTTARGET\": \"\",\n",
    "    \"__EVENTARGUMENT\": \"\",\n",
    "    \"__LASTFOCUS\": \"\",\n",
    "    \"__VIEWSTATE\": \"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\",\n",
    "    \"__VIEWSTATEGENERATOR\": \"11E838D2\",\n",
    "    \"__EVENTVALIDATION\": \"RwVPz0xrkmebeO6QjpD4mGGeD1Ao5WYTzbp01M0IOM29zX9WL9OIkq2Hyc4oep1SqmEPrb8WcHDTdahO5WaU4QBQhCgaznuv5yas9gIilE0oakVPak1Pr8w3DWHzYJf9+Tb9q3DCU6J/HyL/6D6Nkzynopa6S5CI0xUExotRquXiUV4y29fWTIHKE95HedbEM6OYG/mbLiCrLiX2MOg1MBGRp6JWswtrc5pNQK9ac18zYjPZRrwqT9etKeXCIGm9Xe5myHOveMcZsGyCzIK8m7Y3sK/JS6aW28cn8DpAP/Ml5hFbP7WXLGsvBWlqHVzT/S1i7/yTGLEfWYMb9TfHbRERLrK5KR+2C5+OVGJ4agkWCdEYVVOnIzh8CxnVuEkEsE/yvX6w6EKHngOGBZ1Y3c4wduqrtI+ubkrprd0qbaYtaj+Kw153Z8Zlb0nCOzC6ce3YskQKHpv7qLiOnu7M86HiC3aD5bErzz0CmGSxxqf3SMgG2irvaAW50aIZvTbqyNHnplh2HiHc6o3/HOzOrNEcTOvZc8X3+R/I2dBZgiNpn6e3Sl4pZSzv0IHHpv6GfdnHZ6/WApM1aQRn0Ob20UsDDq6ZjHGYWVK1qZELeQyDoFrDa6iHG9lwhIDt3jkU/5FHcBiM5C1mdCVIRYiZ14jPX0m/cMlaiz8fZkAybcAQnKZEZSAafRBGS+BemSMaV3WuSkoosRKgB5yuulTvf3bue1d3OSTlgPFJa/1lozGBuIuHEmkFItPtiZHh7rcRM+qqd/5udLMfSXQCIQbrr8heQXY9cuKi7pr3r+pf9xY8ySAaX5Ymf+9B5xW9o59r1iOiLhmy7lNnR5yBBTSnLZ/OGf4=\",\n",
    "    \"Lotto649Control_history$DropDownList1\": \"2\",\n",
    "    \"Lotto649Control_history$chk\": \"radYM\",\n",
    "    \"Lotto649Control_history$dropYear\": \"108\",\n",
    "    \"Lotto649Control_history$dropMonth\": \"2\",\n",
    "    \"Lotto649Control_history$btnSubmit\": \"查詢\",\n",
    "}\n",
    "res = requests.post(url , data = payload)\n",
    "res"
   ]
  },
  {
   "cell_type": "code",
   "execution_count": null,
   "metadata": {},
   "outputs": [],
   "source": [
    "from bs4 import BeautifulSoup as bs\n",
    "soup = bs(res.text,\"lxml\")\n",
    "s"
   ]
  }
 ],
 "metadata": {
  "kernelspec": {
   "display_name": "Python 3",
   "language": "python",
   "name": "python3"
  },
  "language_info": {
   "codemirror_mode": {
    "name": "ipython",
    "version": 3
   },
   "file_extension": ".py",
   "mimetype": "text/x-python",
   "name": "python",
   "nbconvert_exporter": "python",
   "pygments_lexer": "ipython3",
   "version": "3.7.3"
  }
 },
 "nbformat": 4,
 "nbformat_minor": 2
}
