{
 "cells": [
  {
   "cell_type": "code",
   "execution_count": 30,
   "metadata": {},
   "outputs": [
    {
     "name": "stdout",
     "output_type": "stream",
     "text": [
      "7\n",
      "3\n",
      "10\n",
      "4\n",
      "========\n",
      "3.0\n",
      "10.0\n",
      "5.9025\n",
      "========\n",
      "False\n",
      "False\n",
      "========\n",
      "Hello\n",
      "Hello!!!\n",
      "========\n",
      "10002\n",
      "10002\n",
      "123\n",
      "789\n"
     ]
    }
   ],
   "source": [
    "### int\n",
    "x=int(7)\n",
    "y=int(3)\n",
    "\n",
    "print(x)\n",
    "print(y)\n",
    "\n",
    "print(x+y)\n",
    "\n",
    "z=7\n",
    "w=3\n",
    "print(z-w)\n",
    "\n",
    "print(\"========\")\n",
    "\n",
    "### float\n",
    "a= float(3)\n",
    "b= float(10)\n",
    "\n",
    "print(a)\n",
    "print(b)\n",
    "\n",
    "c= 3.1415\n",
    "d= 2.761\n",
    "\n",
    "print(c+d)\n",
    "\n",
    "print(\"========\")\n",
    "\n",
    "### Bool\n",
    "e=True\n",
    "f=False\n",
    "h=False\n",
    "print(e and f)\n",
    "print(e and f and h)\n",
    "\n",
    "print(\"========\")\n",
    "\n",
    "### Str\n",
    "word  = \"Hello\"\n",
    "word2 = 'Hello!!!'\n",
    "print(word)\n",
    "print(word2)\n",
    "\n",
    "\n",
    "print(\"========\")\n",
    "\n",
    "num = 10002\n",
    "memberNo = 10002\n",
    "print(num)\n",
    "print(memberNo)\n",
    "\n",
    "validcaseno = 456\n",
    "validCaseNo = 123\n",
    "valid_case_no = 789\n",
    "\n",
    "print(validCaseNo)\n",
    "print(valid_case_no)"
   ]
  },
  {
   "cell_type": "code",
   "execution_count": 32,
   "metadata": {},
   "outputs": [
    {
     "name": "stdout",
     "output_type": "stream",
     "text": [
      "123\n",
      "2.14\n",
      "<class 'int'>\n",
      "<class 'float'>\n"
     ]
    }
   ],
   "source": [
    "a = 123\n",
    "b = 2.14\n",
    "print(a)\n",
    "print(b)\n",
    "print(type(a))\n",
    "print(type(b))\n",
    "\n",
    "print(\"==============\")\n",
    "\n"
   ]
  },
  {
   "cell_type": "code",
   "execution_count": 35,
   "metadata": {},
   "outputs": [
    {
     "name": "stdout",
     "output_type": "stream",
     "text": [
      "abc\n",
      "<class 'str'>\n"
     ]
    }
   ],
   "source": [
    "z = input()\n",
    "#print(z)\n",
    "print(type(z))"
   ]
  },
  {
   "cell_type": "code",
   "execution_count": 37,
   "metadata": {},
   "outputs": [
    {
     "data": {
      "text/plain": [
       "125.102"
      ]
     },
     "execution_count": 37,
     "metadata": {},
     "output_type": "execute_result"
    }
   ],
   "source": [
    "# x=\"abc\"\n",
    "y=123\n",
    "z=2.102\n",
    "y+z"
   ]
  },
  {
   "cell_type": "code",
   "execution_count": 82,
   "metadata": {},
   "outputs": [
    {
     "name": "stdout",
     "output_type": "stream",
     "text": [
      "Hi , I'm Jeff\n",
      "HI , I'm Jeff , and you are Keven\n",
      "HI , I'm Keven , and you are Jeff\n",
      "====================\n",
      "book\n",
      "s is a bo\n",
      "s is a bo\n",
      "====================\n",
      "['This', 'is', 'a', 'book.']\n",
      "['Apple,Banana,Cat']\n",
      "['Apple', 'Banana', 'Cat']\n",
      "====================\n",
      "StevenJCArial\n",
      "Steven,JC,Arial\n",
      "Steven____JC____Arial\n",
      "Steven____JC____Arial____bigAu____smallC\n",
      "====================\n",
      "                    kdjhvi \n",
      "kdjhvi\n",
      "====================\n",
      "True\n",
      "False\n",
      "<class 'bool'>\n",
      "====================\n",
      "Green tea.\n",
      "====================\n",
      "6\n",
      "-1\n"
     ]
    }
   ],
   "source": [
    "# .format\n",
    "name = \"Jeff\"\n",
    "name2 = \"Keven\"\n",
    "w1 = \"Hi , I'm {}\"\n",
    "w11 = \"HI , I'm {} , and you are {}\"\n",
    "print(w1.format(name))\n",
    "print(w11.format(name,name2))\n",
    "print(w11.format(name2,name))\n",
    "\n",
    "print(\"=\"*20)\n",
    "\n",
    "# [:]\n",
    "# sub string\n",
    "w2 = \"This is a book\"\n",
    "print(w2[10:])\n",
    "print(w2[3:12])\n",
    "print(w2[3:-2])\n",
    "\n",
    "print(\"=\"*20)\n",
    "\n",
    "# # .split\n",
    "w3 = \"This is a book.\"\n",
    "w4 = \"Apple,Banana,Cat\"\n",
    "print(w3.split(\" \"))\n",
    "print(w4.split(\" \"))\n",
    "print(w4.split(\",\"))\n",
    "\n",
    "\n",
    "print(\"=\"*20)\n",
    "\n",
    "# # .join\n",
    "w5  = \"\".join([\"Steven\",\"JC\",\"Arial\"])\n",
    "w51 = \",\".join([\"Steven\",\"JC\",\"Arial\"])\n",
    "w52 = \"____\".join([\"Steven\",\"JC\",\"Arial\"])\n",
    "w53 = \"____\".join([\"Steven\",\"JC\",\"Arial\",\"bigAu\",\"smallC\"])\n",
    "print(w5)\n",
    "print(w51)\n",
    "print(w52)\n",
    "print(w53)\n",
    "\n",
    "print(\"=\"*20)\n",
    "\n",
    "# # .strip\n",
    "w6 = \"                    kdjhvi \"\n",
    "print(w6)\n",
    "print(w6.strip())\n",
    "\n",
    "print(\"=\"*20)\n",
    "\n",
    "# # .startswith\n",
    "w7 = \"Avenger Assemble!\"\n",
    "print(w7.startswith(\"Avenger\"))\n",
    "print(w7.startswith(\"test\"))\n",
    "print( type(w7.startswith(\"test\"))  )\n",
    "\n",
    "\n",
    "print(\"=\"*20)\n",
    "\n",
    "# # .replace \n",
    "w8 = \"Green tea.\"\n",
    "print(w8.replace(\"Blue\",\"Red\"))\n",
    "\n",
    "print(\"=\"*20)\n",
    "\n",
    "# # .find\n",
    "w9 = \"Today is a rainy day.\"\n",
    "print(w9.find(\"is\"))\n",
    "print(w9.find(\"are\"))"
   ]
  },
  {
   "cell_type": "code",
   "execution_count": 89,
   "metadata": {},
   "outputs": [
    {
     "name": "stdout",
     "output_type": "stream",
     "text": [
      "Jeff\n",
      "b'Jeff'\n",
      "====================\n",
      "周杰倫\n",
      "b'\\xe5\\x91\\xa8\\xe6\\x9d\\xb0\\xe5\\x80\\xab'\n",
      "<class 'str'>\n",
      "<class 'bytes'>\n",
      "====================\n",
      "b'\\xe5\\x91\\xa8\\xe6\\x9d\\xb0\\xe5\\x80\\xab'\n",
      "<class 'bytes'>\n",
      "周杰倫\n",
      "abc\n"
     ]
    }
   ],
   "source": [
    "test1 = \"Jeff\"\n",
    "print(test1)\n",
    "print(test1.encode(\"utf8\"))\n",
    "\n",
    "# print(\"=\"*20)\n",
    "\n",
    "# test2 = \"周杰倫\"\n",
    "# print(test2)\n",
    "# print(test2.encode(\"utf8\"))\n",
    "# print(type(test2))\n",
    "# print(type(test2.encode(\"utf8\")))\n",
    "\n",
    "# print(\"=\"*20)\n",
    "\n",
    "# test3 = b'\\xe5\\x91\\xa8\\xe6\\x9d\\xb0\\xe5\\x80\\xab'\n",
    "# test4 = '\\xe5\\x91\\xa8\\xe6\\x9d\\xb0\\xe5\\x80\\xab'\n",
    "# print(test3)\n",
    "# print(type(test3))\n",
    "# print(test3.decode(\"utf8\"))\n",
    "# print(test4)\n",
    "# print(type(test4))\n",
    "\n",
    "test5=\"abc\"\n",
    "print(test5)"
   ]
  },
  {
   "cell_type": "code",
   "execution_count": 120,
   "metadata": {},
   "outputs": [
    {
     "name": "stdout",
     "output_type": "stream",
     "text": [
      "34.17\n",
      "abcjdk\n",
      "==================================================\n",
      "234.89\n",
      "<class 'float'>\n",
      "==================================================\n",
      "291.75504\n",
      "abcabcabcabcabcabcabcabcabcabcabcabcabcabcabcabcabcabcabcabc\n",
      "==================================================\n",
      "1024\n",
      "243\n",
      "==================================================\n",
      "-2.015748031496063\n",
      "==================================================\n",
      "18\n",
      "==================================================\n",
      "1\n",
      "==================================================\n",
      "True\n",
      "False\n",
      "False\n"
     ]
    }
   ],
   "source": [
    "## + \n",
    "r1 = 32 + 2.17\n",
    "r2 = \"abc\" + \"jdk\"\n",
    "# r3 = 25 + \"abc\"\n",
    "# r4 = 50 + \"123\"\n",
    "print(r1)\n",
    "print(r2)\n",
    "# print(r3)\n",
    "# print(r4)\n",
    "\n",
    "print(\"=\"*50)\n",
    "\n",
    "## - \n",
    "r5 = 256 - 21.11\n",
    "print(r5)\n",
    "print(type(r5))\n",
    "\n",
    "print(\"=\"*50)\n",
    "\n",
    "## * \n",
    "r6 = 24 * 12.15646\n",
    "r7 = \"abc\"*20\n",
    "print(r6)\n",
    "print(r7)\n",
    "\n",
    "print(\"=\"*50)\n",
    "\n",
    "## **\n",
    "r8 = 2**10\n",
    "r9 = 3**5\n",
    "print(r8)\n",
    "print(r9)\n",
    "\n",
    "print(\"=\"*50)\n",
    "\n",
    "## / \n",
    "r10 = -256 / 127\n",
    "print(r10)\n",
    "\n",
    "print(\"=\"*50)\n",
    "\n",
    "## // \n",
    "r11 = 127 // 7\n",
    "print(r11)\n",
    "\n",
    "print(\"=\"*50)\n",
    "\n",
    "## % \n",
    "r12 = 33 % 4\n",
    "print(r12)\n",
    "\n",
    "print(\"=\"*50)\n",
    "\n",
    "\n",
    "r13 = 12 > 5\n",
    "r14 = 1027 % 2 == 0\n",
    "print(r13)\n",
    "print(r14)\n",
    "print(r13 and r14)\n",
    "\n",
    "print(\"=\"*50)\n"
   ]
  },
  {
   "cell_type": "code",
   "execution_count": 147,
   "metadata": {},
   "outputs": [
    {
     "name": "stdout",
     "output_type": "stream",
     "text": [
      "r15 == r16 : False\n",
      "r15 == r17 : True\n",
      "r15 is r16 : False\n",
      "r15 is r17 : True\n",
      "==================================================\n",
      "r18 is r20 : False\n",
      "r18 == r20 : True\n"
     ]
    }
   ],
   "source": [
    "# \"a\" in \"75jhfjf87\"\n",
    "# 12 in [2,3,5,7]\n",
    "\n",
    "r15 = 123\n",
    "r16 = 456\n",
    "r17 = 123\n",
    "\n",
    "print(\"r15 == r16 :\" , r15 == r16)\n",
    "print(\"r15 == r17 :\",r15 == r17)\n",
    "\n",
    "print(\"r15 is r16 :\",r15 is r16)\n",
    "print(\"r15 is r17 :\",r15 is r17)\n",
    "\n",
    "print(\"=\"*50)\n",
    "\n",
    "\n",
    "# r19 = [4,5,6]\n",
    "# print(r18 is r19)\n",
    "\n",
    "r18 = [1,2,3]\n",
    "r20 = [1,2,3]\n",
    "print(\"r18 is r20 :\",r18 is r20)\n",
    "print(\"r18 == r20 :\",r18 == r20)"
   ]
  },
  {
   "cell_type": "code",
   "execution_count": 152,
   "metadata": {},
   "outputs": [
    {
     "name": "stdout",
     "output_type": "stream",
     "text": [
      "Positive\n",
      "Hello\n",
      "====================================================================================================\n",
      "B!\n"
     ]
    }
   ],
   "source": [
    "# Python\n",
    "x=123\n",
    "# x=-2.731\n",
    "if x>0:\n",
    "    print(\"Positive\")\n",
    "    y = \"Hello\"\n",
    "    print(y)\n",
    "else:\n",
    "    print(\"Negative\")\n",
    "    \n",
    "    \n",
    "# Javascript\n",
    "# if(x>0){\n",
    "#     console.log(\"Positive\");\n",
    "# }else{\n",
    "#     console.log(\"Negative\");\n",
    "# };\n",
    "\n",
    "\n",
    "print(\"=\"*100)\n",
    "\n",
    "z = 24\n",
    "if z <0 :\n",
    "    print(\"A!\")\n",
    "elif z>=0 and z<100 :\n",
    "    print(\"B!\")\n",
    "else :\n",
    "    print(\"C!\")\n"
   ]
  },
  {
   "cell_type": "code",
   "execution_count": null,
   "metadata": {},
   "outputs": [],
   "source": []
  },
  {
   "cell_type": "code",
   "execution_count": null,
   "metadata": {},
   "outputs": [],
   "source": []
  },
  {
   "cell_type": "code",
   "execution_count": null,
   "metadata": {},
   "outputs": [],
   "source": []
  },
  {
   "cell_type": "code",
   "execution_count": null,
   "metadata": {},
   "outputs": [],
   "source": []
  },
  {
   "cell_type": "code",
   "execution_count": null,
   "metadata": {},
   "outputs": [],
   "source": []
  },
  {
   "cell_type": "code",
   "execution_count": null,
   "metadata": {},
   "outputs": [],
   "source": [
    "## Q1\n",
    "w , h = \n",
    "\n",
    "\n",
    "## Q2\n",
    "message = input\n",
    "## Q3\n",
    "\n",
    "## Q4"
   ]
  }
 ],
 "metadata": {
  "kernelspec": {
   "display_name": "Python 3",
   "language": "python",
   "name": "python3"
  },
  "language_info": {
   "codemirror_mode": {
    "name": "ipython",
    "version": 3
   },
   "file_extension": ".py",
   "mimetype": "text/x-python",
   "name": "python",
   "nbconvert_exporter": "python",
   "pygments_lexer": "ipython3",
   "version": "3.7.3"
  }
 },
 "nbformat": 4,
 "nbformat_minor": 2
}
