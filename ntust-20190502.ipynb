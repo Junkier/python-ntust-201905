{
 "cells": [
  {
   "cell_type": "code",
   "execution_count": 30,
   "metadata": {},
   "outputs": [
    {
     "name": "stdout",
     "output_type": "stream",
     "text": [
      "7\n",
      "3\n",
      "10\n",
      "4\n",
      "========\n",
      "3.0\n",
      "10.0\n",
      "5.9025\n",
      "========\n",
      "False\n",
      "False\n",
      "========\n",
      "Hello\n",
      "Hello!!!\n",
      "========\n",
      "10002\n",
      "10002\n",
      "123\n",
      "789\n"
     ]
    }
   ],
   "source": [
    "### int\n",
    "x=int(7)\n",
    "y=int(3)\n",
    "\n",
    "print(x)\n",
    "print(y)\n",
    "\n",
    "print(x+y)\n",
    "\n",
    "z=7\n",
    "w=3\n",
    "print(z-w)\n",
    "\n",
    "print(\"========\")\n",
    "\n",
    "### float\n",
    "a= float(3)\n",
    "b= float(10)\n",
    "\n",
    "print(a)\n",
    "print(b)\n",
    "\n",
    "c= 3.1415\n",
    "d= 2.761\n",
    "\n",
    "print(c+d)\n",
    "\n",
    "print(\"========\")\n",
    "\n",
    "### Bool\n",
    "e=True\n",
    "f=False\n",
    "h=False\n",
    "print(e and f)\n",
    "print(e and f and h)\n",
    "\n",
    "print(\"========\")\n",
    "\n",
    "### Str\n",
    "word  = \"Hello\"\n",
    "word2 = 'Hello!!!'\n",
    "print(word)\n",
    "print(word2)\n",
    "\n",
    "\n",
    "print(\"========\")\n",
    "\n",
    "num = 10002\n",
    "memberNo = 10002\n",
    "print(num)\n",
    "print(memberNo)\n",
    "\n",
    "validcaseno = 456\n",
    "validCaseNo = 123\n",
    "valid_case_no = 789\n",
    "\n",
    "print(validCaseNo)\n",
    "print(valid_case_no)"
   ]
  },
  {
   "cell_type": "code",
   "execution_count": 32,
   "metadata": {},
   "outputs": [
    {
     "name": "stdout",
     "output_type": "stream",
     "text": [
      "123\n",
      "2.14\n",
      "<class 'int'>\n",
      "<class 'float'>\n"
     ]
    }
   ],
   "source": [
    "a = 123\n",
    "b = 2.14\n",
    "print(a)\n",
    "print(b)\n",
    "print(type(a))\n",
    "print(type(b))\n",
    "\n",
    "print(\"==============\")\n",
    "\n"
   ]
  },
  {
   "cell_type": "code",
   "execution_count": 35,
   "metadata": {},
   "outputs": [
    {
     "name": "stdout",
     "output_type": "stream",
     "text": [
      "abc\n",
      "<class 'str'>\n"
     ]
    }
   ],
   "source": [
    "z = input()\n",
    "#print(z)\n",
    "print(type(z))"
   ]
  },
  {
   "cell_type": "code",
   "execution_count": 37,
   "metadata": {},
   "outputs": [
    {
     "data": {
      "text/plain": [
       "125.102"
      ]
     },
     "execution_count": 37,
     "metadata": {},
     "output_type": "execute_result"
    }
   ],
   "source": [
    "# x=\"abc\"\n",
    "y=123\n",
    "z=2.102\n",
    "y+z"
   ]
  },
  {
   "cell_type": "code",
   "execution_count": 82,
   "metadata": {},
   "outputs": [
    {
     "name": "stdout",
     "output_type": "stream",
     "text": [
      "Hi , I'm Jeff\n",
      "HI , I'm Jeff , and you are Keven\n",
      "HI , I'm Keven , and you are Jeff\n",
      "====================\n",
      "book\n",
      "s is a bo\n",
      "s is a bo\n",
      "====================\n",
      "['This', 'is', 'a', 'book.']\n",
      "['Apple,Banana,Cat']\n",
      "['Apple', 'Banana', 'Cat']\n",
      "====================\n",
      "StevenJCArial\n",
      "Steven,JC,Arial\n",
      "Steven____JC____Arial\n",
      "Steven____JC____Arial____bigAu____smallC\n",
      "====================\n",
      "                    kdjhvi \n",
      "kdjhvi\n",
      "====================\n",
      "True\n",
      "False\n",
      "<class 'bool'>\n",
      "====================\n",
      "Green tea.\n",
      "====================\n",
      "6\n",
      "-1\n"
     ]
    }
   ],
   "source": [
    "# .format\n",
    "name = \"Jeff\"\n",
    "name2 = \"Keven\"\n",
    "w1 = \"Hi , I'm {}\"\n",
    "w11 = \"HI , I'm {} , and you are {}\"\n",
    "print(w1.format(name))\n",
    "print(w11.format(name,name2))\n",
    "print(w11.format(name2,name))\n",
    "\n",
    "print(\"=\"*20)\n",
    "\n",
    "# [:]\n",
    "# sub string\n",
    "w2 = \"This is a book\"\n",
    "print(w2[10:])\n",
    "print(w2[3:12])\n",
    "print(w2[3:-2])\n",
    "\n",
    "print(\"=\"*20)\n",
    "\n",
    "# # .split\n",
    "w3 = \"This is a book.\"\n",
    "w4 = \"Apple,Banana,Cat\"\n",
    "print(w3.split(\" \"))\n",
    "print(w4.split(\" \"))\n",
    "print(w4.split(\",\"))\n",
    "\n",
    "\n",
    "print(\"=\"*20)\n",
    "\n",
    "# # .join\n",
    "w5  = \"\".join([\"Steven\",\"JC\",\"Arial\"])\n",
    "w51 = \",\".join([\"Steven\",\"JC\",\"Arial\"])\n",
    "w52 = \"____\".join([\"Steven\",\"JC\",\"Arial\"])\n",
    "w53 = \"____\".join([\"Steven\",\"JC\",\"Arial\",\"bigAu\",\"smallC\"])\n",
    "print(w5)\n",
    "print(w51)\n",
    "print(w52)\n",
    "print(w53)\n",
    "\n",
    "print(\"=\"*20)\n",
    "\n",
    "# # .strip\n",
    "w6 = \"                    kdjhvi \"\n",
    "print(w6)\n",
    "print(w6.strip())\n",
    "\n",
    "print(\"=\"*20)\n",
    "\n",
    "# # .startswith\n",
    "w7 = \"Avenger Assemble!\"\n",
    "print(w7.startswith(\"Avenger\"))\n",
    "print(w7.startswith(\"test\"))\n",
    "print( type(w7.startswith(\"test\"))  )\n",
    "\n",
    "\n",
    "print(\"=\"*20)\n",
    "\n",
    "# # .replace \n",
    "w8 = \"Green tea.\"\n",
    "print(w8.replace(\"Blue\",\"Red\"))\n",
    "\n",
    "print(\"=\"*20)\n",
    "\n",
    "# # .find\n",
    "w9 = \"Today is a rainy day.\"\n",
    "print(w9.find(\"is\"))\n",
    "print(w9.find(\"are\"))"
   ]
  },
  {
   "cell_type": "code",
   "execution_count": 89,
   "metadata": {},
   "outputs": [
    {
     "name": "stdout",
     "output_type": "stream",
     "text": [
      "Jeff\n",
      "b'Jeff'\n",
      "====================\n",
      "周杰倫\n",
      "b'\\xe5\\x91\\xa8\\xe6\\x9d\\xb0\\xe5\\x80\\xab'\n",
      "<class 'str'>\n",
      "<class 'bytes'>\n",
      "====================\n",
      "b'\\xe5\\x91\\xa8\\xe6\\x9d\\xb0\\xe5\\x80\\xab'\n",
      "<class 'bytes'>\n",
      "周杰倫\n",
      "abc\n"
     ]
    }
   ],
   "source": [
    "test1 = \"Jeff\"\n",
    "print(test1)\n",
    "print(test1.encode(\"utf8\"))\n",
    "\n",
    "print(\"=\"*20)\n",
    "\n",
    "test2 = \"周杰倫\"\n",
    "print(test2)\n",
    "print(test2.encode(\"utf8\"))\n",
    "print(type(test2))\n",
    "print(type(test2.encode(\"utf8\")))\n",
    "\n",
    "print(\"=\"*20)\n",
    "\n",
    "# test3 = b'\\xe5\\x91\\xa8\\xe6\\x9d\\xb0\\xe5\\x80\\xab'\n",
    "# test4 = '\\xe5\\x91\\xa8\\xe6\\x9d\\xb0\\xe5\\x80\\xab'\n",
    "print(test3)\n",
    "print(type(test3))\n",
    "print(test3.decode(\"utf8\"))\n",
    "# print(test4)\n",
    "# print(type(test4))\n",
    "\n",
    "test5=\"abc\"\n",
    "print(test5)"
   ]
  }
 ],
 "metadata": {
  "kernelspec": {
   "display_name": "Python 3",
   "language": "python",
   "name": "python3"
  },
  "language_info": {
   "codemirror_mode": {
    "name": "ipython",
    "version": 3
   },
   "file_extension": ".py",
   "mimetype": "text/x-python",
   "name": "python",
   "nbconvert_exporter": "python",
   "pygments_lexer": "ipython3",
   "version": "3.7.3"
  }
 },
 "nbformat": 4,
 "nbformat_minor": 2
}
