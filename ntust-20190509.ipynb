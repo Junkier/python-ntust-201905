{
 "cells": [
  {
   "cell_type": "code",
   "execution_count": 7,
   "metadata": {},
   "outputs": [],
   "source": [
    "f = open(\"sample.csv\",mode=\"r\",encoding=\"utf8\")\n",
    "data = f.readlines()\n",
    "f.close()"
   ]
  },
  {
   "cell_type": "code",
   "execution_count": 10,
   "metadata": {},
   "outputs": [
    {
     "name": "stdout",
     "output_type": "stream",
     "text": [
      "['貨品分類,中文貨名,英文貨名,國家,數量,數量單位,重量,重量單位,價值\\n', '3032300007,冷凍吳郭魚,\" Tilapias, frozen\",巴林,0,-   ,8000,KGM ,411\\n', '3032300007,冷凍吳郭魚,\" Tilapias, frozen\",日本,0,-   ,10800,KGM ,696\\n', '3032300007,冷凍吳郭魚,\" Tilapias, frozen\",加拿大,0,-   ,108631,KGM ,7365\\n', '3032300007,冷凍吳郭魚,\" Tilapias, frozen\",沙烏地阿拉伯,0,-   ,503000,KGM ,24919\\n', '3032300007,冷凍吳郭魚,\" Tilapias, frozen\",其他大洋洲國家,0,-   ,11695,KGM ,729\\n', '3032300007,冷凍吳郭魚,\" Tilapias, frozen\",阿拉伯聯合大公國,0,-   ,29000,KGM ,1274\\n', '3032300007,冷凍吳郭魚,\" Tilapias, frozen\",科威特,0,-   ,121536,KGM ,6128\\n', '3032300007,冷凍吳郭魚,\" Tilapias, frozen\",美國,0,-   ,749982,KGM ,46022\\n', '3032300007,冷凍吳郭魚,\" Tilapias, frozen\",香港,0,-   ,72,KGM ,2\\n', '3032300007,冷凍吳郭魚,\" Tilapias, frozen\",澳大利亞,0,-   ,69570,KGM ,4786\\n', '3032300007,冷凍吳郭魚,\" Tilapias, frozen\",關島,0,-   ,8618,KGM ,458\\n', '12019000104,黑豆，不論是否破碎,\" Black soybeans, whether or not broken\",加拿大,0,-   ,0,TNE ,43\\n', '12019000104,黑豆，不論是否破碎,\" Black soybeans, whether or not broken\",美國,0,-   ,0,TNE ,9\\n', '12019000104,黑豆，不論是否破碎,\" Black soybeans, whether or not broken\",菲律賓,0,-   ,0,TNE ,6\\n', '52114200005,牛仔布, Denim,中國大陸,11398,MTK ,1991,KGM ,902\\n', '52114200005,牛仔布, Denim,日本,14364,MTK ,3898,KGM ,1596\\n', '52114200005,牛仔布, Denim,印尼,21998,MTK ,3869,KGM ,1543\\n', '52114200005,牛仔布, Denim,印度,7212,MTK ,2185,KGM ,513\\n', '52114200005,牛仔布, Denim,柬埔寨,28081,MTK ,9915,KGM ,2469\\n', '52114200005,牛仔布, Denim,馬來西亞,8925,MTK ,3598,KGM ,575\\n', '52114200005,牛仔布, Denim,越南,139191,MTK ,53225,KGM ,12330\\n', '52114200005,牛仔布, Denim,賴索托,6894,MTK ,2771,KGM ,435\\n']\n"
     ]
    }
   ],
   "source": [
    "print(data)"
   ]
  },
  {
   "cell_type": "code",
   "execution_count": 18,
   "metadata": {},
   "outputs": [
    {
     "name": "stdout",
     "output_type": "stream",
     "text": [
      "貨品分類 中文貨名\n",
      "3032300007 冷凍吳郭魚\n",
      "3032300007 冷凍吳郭魚\n",
      "3032300007 冷凍吳郭魚\n",
      "3032300007 冷凍吳郭魚\n",
      "3032300007 冷凍吳郭魚\n",
      "3032300007 冷凍吳郭魚\n",
      "3032300007 冷凍吳郭魚\n",
      "3032300007 冷凍吳郭魚\n",
      "3032300007 冷凍吳郭魚\n",
      "3032300007 冷凍吳郭魚\n",
      "3032300007 冷凍吳郭魚\n",
      "12019000104 黑豆，不論是否破碎\n",
      "12019000104 黑豆，不論是否破碎\n",
      "12019000104 黑豆，不論是否破碎\n",
      "52114200005 牛仔布\n",
      "52114200005 牛仔布\n",
      "52114200005 牛仔布\n",
      "52114200005 牛仔布\n",
      "52114200005 牛仔布\n",
      "52114200005 牛仔布\n",
      "52114200005 牛仔布\n",
      "52114200005 牛仔布\n"
     ]
    }
   ],
   "source": [
    "# print(data)\n",
    "\n",
    "# for line in data:\n",
    "#     print(line.strip())\n",
    "    \n",
    "  \n",
    "for line in data:\n",
    "    categoryNo = line.split(\",\")[0]\n",
    "    name = line.split(\",\")[1]\n",
    "    print(categoryNo,name)\n"
   ]
  },
  {
   "cell_type": "code",
   "execution_count": 24,
   "metadata": {},
   "outputs": [
    {
     "name": "stdout",
     "output_type": "stream",
     "text": [
      "貨品分類,中文貨名,英文貨名,國家,數量,數量單位,重量,重量單位,價值\n",
      "\n"
     ]
    }
   ],
   "source": [
    "f = open(\"sample.csv\",mode=\"r\",encoding=\"utf8\")\n",
    "# data = f.readlines()\n",
    "\n",
    "\n",
    "# data = f.read(197)\n",
    "\n",
    "# print(data)\n",
    "# print(type(data))\n",
    "\n",
    "data = f.readline()\n",
    "data += f.readline()\n",
    "\n",
    "print(data)\n"
   ]
  },
  {
   "cell_type": "code",
   "execution_count": null,
   "metadata": {},
   "outputs": [],
   "source": []
  }
 ],
 "metadata": {
  "kernelspec": {
   "display_name": "Python 3",
   "language": "python",
   "name": "python3"
  },
  "language_info": {
   "codemirror_mode": {
    "name": "ipython",
    "version": 3
   },
   "file_extension": ".py",
   "mimetype": "text/x-python",
   "name": "python",
   "nbconvert_exporter": "python",
   "pygments_lexer": "ipython3",
   "version": "3.7.3"
  }
 },
 "nbformat": 4,
 "nbformat_minor": 2
}
