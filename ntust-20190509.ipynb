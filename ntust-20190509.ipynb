{
 "cells": [
  {
   "cell_type": "code",
   "execution_count": 32,
   "metadata": {},
   "outputs": [],
   "source": [
    "f = open(\"sample.csv\",mode=\"r\",encoding=\"utf8\")\n",
    "data = f.readlines()\n",
    "f.close()"
   ]
  },
  {
   "cell_type": "code",
   "execution_count": 33,
   "metadata": {},
   "outputs": [
    {
     "name": "stdout",
     "output_type": "stream",
     "text": [
      "['貨品分類,中文貨名,英文貨名,國家,數量,數量單位,重量,重量單位,價值\\n', '3032300007,冷凍吳郭魚,\" Tilapias, frozen\",巴林,0,-   ,8000,KGM ,411\\n', '3032300007,冷凍吳郭魚,\" Tilapias, frozen\",日本,0,-   ,10800,KGM ,696\\n', '3032300007,冷凍吳郭魚,\" Tilapias, frozen\",加拿大,0,-   ,108631,KGM ,7365\\n', '3032300007,冷凍吳郭魚,\" Tilapias, frozen\",沙烏地阿拉伯,0,-   ,503000,KGM ,24919\\n', '3032300007,冷凍吳郭魚,\" Tilapias, frozen\",其他大洋洲國家,0,-   ,11695,KGM ,729\\n', '3032300007,冷凍吳郭魚,\" Tilapias, frozen\",阿拉伯聯合大公國,0,-   ,29000,KGM ,1274\\n', '3032300007,冷凍吳郭魚,\" Tilapias, frozen\",科威特,0,-   ,121536,KGM ,6128\\n', '3032300007,冷凍吳郭魚,\" Tilapias, frozen\",美國,0,-   ,749982,KGM ,46022\\n', '3032300007,冷凍吳郭魚,\" Tilapias, frozen\",香港,0,-   ,72,KGM ,2\\n', '3032300007,冷凍吳郭魚,\" Tilapias, frozen\",澳大利亞,0,-   ,69570,KGM ,4786\\n', '3032300007,冷凍吳郭魚,\" Tilapias, frozen\",關島,0,-   ,8618,KGM ,458\\n', '12019000104,黑豆，不論是否破碎,\" Black soybeans, whether or not broken\",加拿大,0,-   ,0,TNE ,43\\n', '12019000104,黑豆，不論是否破碎,\" Black soybeans, whether or not broken\",美國,0,-   ,0,TNE ,9\\n', '12019000104,黑豆，不論是否破碎,\" Black soybeans, whether or not broken\",菲律賓,0,-   ,0,TNE ,6\\n', '52114200005,牛仔布, Denim,中國大陸,11398,MTK ,1991,KGM ,902\\n', '52114200005,牛仔布, Denim,日本,14364,MTK ,3898,KGM ,1596\\n', '52114200005,牛仔布, Denim,印尼,21998,MTK ,3869,KGM ,1543\\n', '52114200005,牛仔布, Denim,印度,7212,MTK ,2185,KGM ,513\\n', '52114200005,牛仔布, Denim,柬埔寨,28081,MTK ,9915,KGM ,2469\\n', '52114200005,牛仔布, Denim,馬來西亞,8925,MTK ,3598,KGM ,575\\n', '52114200005,牛仔布, Denim,越南,139191,MTK ,53225,KGM ,12330\\n', '52114200005,牛仔布, Denim,賴索托,6894,MTK ,2771,KGM ,435\\n']\n"
     ]
    }
   ],
   "source": [
    "print(data)"
   ]
  },
  {
   "cell_type": "code",
   "execution_count": 36,
   "metadata": {},
   "outputs": [
    {
     "name": "stdout",
     "output_type": "stream",
     "text": [
      "貨品分類,中文貨名,英文貨名,國家,數量,數量單位,重量,重量單位,價值\n",
      "Country :  數量\n",
      "3032300007,冷凍吳郭魚,\" Tilapias, frozen\",巴林,0,-   ,8000,KGM ,411\n",
      "Country :  巴林\n",
      "3032300007,冷凍吳郭魚,\" Tilapias, frozen\",日本,0,-   ,10800,KGM ,696\n",
      "Country :  日本\n",
      "3032300007,冷凍吳郭魚,\" Tilapias, frozen\",加拿大,0,-   ,108631,KGM ,7365\n",
      "Country :  加拿大\n",
      "3032300007,冷凍吳郭魚,\" Tilapias, frozen\",沙烏地阿拉伯,0,-   ,503000,KGM ,24919\n",
      "Country :  沙烏地阿拉伯\n",
      "3032300007,冷凍吳郭魚,\" Tilapias, frozen\",其他大洋洲國家,0,-   ,11695,KGM ,729\n",
      "Country :  其他大洋洲國家\n",
      "3032300007,冷凍吳郭魚,\" Tilapias, frozen\",阿拉伯聯合大公國,0,-   ,29000,KGM ,1274\n",
      "Country :  阿拉伯聯合大公國\n",
      "3032300007,冷凍吳郭魚,\" Tilapias, frozen\",科威特,0,-   ,121536,KGM ,6128\n",
      "Country :  科威特\n",
      "3032300007,冷凍吳郭魚,\" Tilapias, frozen\",美國,0,-   ,749982,KGM ,46022\n",
      "Country :  美國\n",
      "3032300007,冷凍吳郭魚,\" Tilapias, frozen\",香港,0,-   ,72,KGM ,2\n",
      "Country :  香港\n",
      "3032300007,冷凍吳郭魚,\" Tilapias, frozen\",澳大利亞,0,-   ,69570,KGM ,4786\n",
      "Country :  澳大利亞\n",
      "3032300007,冷凍吳郭魚,\" Tilapias, frozen\",關島,0,-   ,8618,KGM ,458\n",
      "Country :  關島\n",
      "12019000104,黑豆，不論是否破碎,\" Black soybeans, whether or not broken\",加拿大,0,-   ,0,TNE ,43\n",
      "Country :  加拿大\n",
      "12019000104,黑豆，不論是否破碎,\" Black soybeans, whether or not broken\",美國,0,-   ,0,TNE ,9\n",
      "Country :  美國\n",
      "12019000104,黑豆，不論是否破碎,\" Black soybeans, whether or not broken\",菲律賓,0,-   ,0,TNE ,6\n",
      "Country :  菲律賓\n",
      "52114200005,牛仔布, Denim,中國大陸,11398,MTK ,1991,KGM ,902\n",
      "Country :  11398\n",
      "52114200005,牛仔布, Denim,日本,14364,MTK ,3898,KGM ,1596\n",
      "Country :  14364\n",
      "52114200005,牛仔布, Denim,印尼,21998,MTK ,3869,KGM ,1543\n",
      "Country :  21998\n",
      "52114200005,牛仔布, Denim,印度,7212,MTK ,2185,KGM ,513\n",
      "Country :  7212\n",
      "52114200005,牛仔布, Denim,柬埔寨,28081,MTK ,9915,KGM ,2469\n",
      "Country :  28081\n",
      "52114200005,牛仔布, Denim,馬來西亞,8925,MTK ,3598,KGM ,575\n",
      "Country :  8925\n",
      "52114200005,牛仔布, Denim,越南,139191,MTK ,53225,KGM ,12330\n",
      "Country :  139191\n",
      "52114200005,牛仔布, Denim,賴索托,6894,MTK ,2771,KGM ,435\n",
      "Country :  6894\n"
     ]
    }
   ],
   "source": [
    "# print(data)\n",
    "\n",
    "# for line in data:\n",
    "#     print(line.strip())\n",
    "    \n",
    "   \n",
    "# for line in data:\n",
    "#     categoryNo = line.split(\",\")[0]\n",
    "#     name = line.split(\",\")[1]\n",
    "#     print(categoryNo,name)\n",
    "\n",
    "\n",
    "for line in data:\n",
    "    print(line.strip())\n",
    "    print(\"Country : \",line.split(\",\")[4])\n"
   ]
  },
  {
   "cell_type": "code",
   "execution_count": 46,
   "metadata": {},
   "outputs": [
    {
     "name": "stdout",
     "output_type": "stream",
     "text": [
      "貨品分類,中文貨名,英文貨名,國家,數量,數量單位,重量,重量單位,價值\n",
      "3032300007,冷凍吳郭魚,\" Tilapias, frozen\",巴林,0,-   ,8000,KGM ,411\n",
      "3032300007,冷凍吳郭魚,\" Tilapias, frozen\",日本,0,-   ,10800,KGM ,696\n",
      "3032300007,冷凍吳郭魚,\" Tilapias, frozen\",加拿大,0,-   ,108631,KGM ,7365\n",
      "\n"
     ]
    }
   ],
   "source": [
    "# Read\n",
    "\n",
    "f = open(\"sample.csv\",mode=\"r\",encoding=\"utf8\")\n",
    "# data = f.readlines()\n",
    "\n",
    "\n",
    "# data = f.read(197)\n",
    "\n",
    "# print(data)\n",
    "# print(type(data))\n",
    "\n",
    "data = f.readline()\n",
    "data += f.readline()\n",
    "data += f.readline()\n",
    "data += f.readline()\n",
    "\n",
    "print(data)\n"
   ]
  },
  {
   "cell_type": "code",
   "execution_count": 71,
   "metadata": {},
   "outputs": [],
   "source": [
    "# Write\n",
    "words = [\n",
    "    \"frozen\",\n",
    "    \"This is an apple\",\n",
    "    \"test write file\",\n",
    "    \"今天禮拜一\",\n",
    "    \"明天會放假\"\n",
    "]\n",
    "\n",
    "\n",
    "# f2 = open(\"test1.txt\",mode=\"w\")\n",
    "\n",
    "# # \\n :換行字元\n",
    "\n",
    "\n",
    "# f2.write(\"Hello world!\")\n",
    "# f2.write(\"\\n\")\n",
    "\n",
    "# f2.write(\"Python test.\")\n",
    "# f2.write(\"\\n\")\n",
    "\n",
    "# f2.write(\"~~~~~~\")\n",
    "# f2.write(\"\\n\")\n",
    "\n",
    "# f2.close()\n",
    "\n",
    "f2 = open(\"test1.txt\",mode=\"w\")\n",
    "\n",
    "for w in words :\n",
    "    f2.write(w)\n",
    "    f2.write(\"\\n\")\n",
    "\n",
    "f2.close()"
   ]
  },
  {
   "cell_type": "code",
   "execution_count": 63,
   "metadata": {},
   "outputs": [],
   "source": [
    "# Append\n",
    "words = [\n",
    "    \"Avengers\",\n",
    "    \"每天都在下雨\",\n",
    "    \"Py~~~~~~thon\",\n",
    "    \"Anaconda\",\n",
    "    \"原萃綠茶\"\n",
    "]\n",
    "\n",
    "f3 = open(\"test2.txt\",mode=\"a\")\n",
    "\n",
    "for w in words:\n",
    "    f3.write(w)\n",
    "    f3.write(\"\\n\")\n",
    "    \n",
    "f3.close()"
   ]
  },
  {
   "cell_type": "code",
   "execution_count": 75,
   "metadata": {},
   "outputs": [
    {
     "name": "stdout",
     "output_type": "stream",
     "text": [
      "Done!\n",
      "--------------------------------------------------\n",
      "['貨品分類,中文貨名,英文貨名,國家,數量,數量單位,重量,重量單位,價值\\n', '3032300007,冷凍吳郭魚,\" Tilapias, frozen\",巴林,0,-   ,8000,KGM ,411\\n', '3032300007,冷凍吳郭魚,\" Tilapias, frozen\",日本,0,-   ,10800,KGM ,696\\n', '3032300007,冷凍吳郭魚,\" Tilapias, frozen\",加拿大,0,-   ,108631,KGM ,7365\\n', '3032300007,冷凍吳郭魚,\" Tilapias, frozen\",沙烏地阿拉伯,0,-   ,503000,KGM ,24919\\n', '3032300007,冷凍吳郭魚,\" Tilapias, frozen\",其他大洋洲國家,0,-   ,11695,KGM ,729\\n', '3032300007,冷凍吳郭魚,\" Tilapias, frozen\",阿拉伯聯合大公國,0,-   ,29000,KGM ,1274\\n', '3032300007,冷凍吳郭魚,\" Tilapias, frozen\",科威特,0,-   ,121536,KGM ,6128\\n', '3032300007,冷凍吳郭魚,\" Tilapias, frozen\",美國,0,-   ,749982,KGM ,46022\\n', '3032300007,冷凍吳郭魚,\" Tilapias, frozen\",香港,0,-   ,72,KGM ,2\\n', '3032300007,冷凍吳郭魚,\" Tilapias, frozen\",澳大利亞,0,-   ,69570,KGM ,4786\\n', '3032300007,冷凍吳郭魚,\" Tilapias, frozen\",關島,0,-   ,8618,KGM ,458\\n', '12019000104,黑豆，不論是否破碎,\" Black soybeans, whether or not broken\",加拿大,0,-   ,0,TNE ,43\\n', '12019000104,黑豆，不論是否破碎,\" Black soybeans, whether or not broken\",美國,0,-   ,0,TNE ,9\\n', '12019000104,黑豆，不論是否破碎,\" Black soybeans, whether or not broken\",菲律賓,0,-   ,0,TNE ,6\\n', '52114200005,牛仔布, Denim,中國大陸,11398,MTK ,1991,KGM ,902\\n', '52114200005,牛仔布, Denim,日本,14364,MTK ,3898,KGM ,1596\\n', '52114200005,牛仔布, Denim,印尼,21998,MTK ,3869,KGM ,1543\\n', '52114200005,牛仔布, Denim,印度,7212,MTK ,2185,KGM ,513\\n', '52114200005,牛仔布, Denim,柬埔寨,28081,MTK ,9915,KGM ,2469\\n', '52114200005,牛仔布, Denim,馬來西亞,8925,MTK ,3598,KGM ,575\\n', '52114200005,牛仔布, Denim,越南,139191,MTK ,53225,KGM ,12330\\n', '52114200005,牛仔布, Denim,賴索托,6894,MTK ,2771,KGM ,435\\n']\n"
     ]
    }
   ],
   "source": [
    "# with open(\"test3.txt\",mode=\"w\") as f4:\n",
    "#     for w in words:\n",
    "#         f4.write(w)\n",
    "#         f4.write(\"\\n\")\n",
    "    # ....\n",
    "    \n",
    "    \n",
    "    \n",
    "with open(\"sample.csv\",mode=\"r\",encoding=\"utf8\") as f5:\n",
    "    data2 = f5.readlines()\n",
    "    \n",
    "print(\"Done!\")    \n",
    "    \n",
    "print(\"-\"*50)\n",
    "print(data2)"
   ]
  },
  {
   "cell_type": "code",
   "execution_count": 78,
   "metadata": {},
   "outputs": [],
   "source": [
    "# Encoding\n",
    "words = [\n",
    "    \"Avengers\",\n",
    "    \"每天都在下雨\",\n",
    "    \"Py~~~~~~thon\",\n",
    "    \"Anaconda\",\n",
    "    \"原萃綠茶\"\n",
    "]\n",
    "\n",
    "f3 = open(\"testA.txt\",mode=\"w\",encoding=\"utf8\")\n",
    "\n",
    "for w in words:\n",
    "    f3.write(w)\n",
    "    f3.write(\"\\n\")\n",
    "    \n",
    "f3.close()"
   ]
  },
  {
   "cell_type": "code",
   "execution_count": 79,
   "metadata": {},
   "outputs": [],
   "source": [
    "# words = [\n",
    "#     \"Avengers\",\n",
    "#     \"每天都在下雨\",\n",
    "#     \"Py~~~~~~thon\",\n",
    "#     \"Anaconda\",\n",
    "#     \"原萃綠茶\"\n",
    "# ]\n",
    "\n",
    "# f3 = open(\"testA.txt\",mode=\"w\",encoding=\"utf8\")\n",
    "\n",
    "# for w in words:\n",
    "#     f3.write(w)\n",
    "#     f3.write(\"\\n\")\n",
    "    \n",
    "# f3.close()\n",
    "\n",
    "\n",
    "# words = [\n",
    "#     \"可口可樂\",\n",
    "#     \"星巴克\",\n",
    "#     \"Python好難學阿\",\n",
    "#     \"練習練習\",\n",
    "#     \"放棄放棄\"\n",
    "# ]\n",
    "\n",
    "# f3 = open(\"testB.txt\",mode=\"w\",encoding=\"utf8\")\n",
    "\n",
    "# for w in words:\n",
    "#     f3.write(w)\n",
    "#     f3.write(\"\\n\")\n",
    "    \n",
    "# f3.close()\n",
    "\n",
    "\n",
    "# words = [\n",
    "#     \"Notepad++\",\n",
    "#     \"禮拜四總愛下雨\",\n",
    "#     \"放假放假\",\n",
    "#     \"禮拜六放假\",\n",
    "#     \"Lemon Tea ~~~\"\n",
    "# ]\n",
    "\n",
    "# f3 = open(\"testC.txt\",mode=\"w\",encoding=\"utf8\")\n",
    "\n",
    "# for w in words:\n",
    "#     f3.write(w)\n",
    "#     f3.write(\"\\n\")\n",
    "    \n",
    "# f3.close()"
   ]
  },
  {
   "cell_type": "code",
   "execution_count": 102,
   "metadata": {},
   "outputs": [
    {
     "name": "stdout",
     "output_type": "stream",
     "text": [
      "Line :  1  ,  Message :  Avengers\n",
      "Line :  2  ,  Message :  每天都在下雨\n",
      "Line :  3  ,  Message :  Py~~~~~~thon\n",
      "Line :  4  ,  Message :  Anaconda\n",
      "Line :  5  ,  Message :  原萃綠茶\n",
      "--------------------------------------------------\n",
      "Line :  1  ,  Message :  可口可樂\n",
      "Line :  2  ,  Message :  星巴克\n",
      "Line :  3  ,  Message :  Python好難學阿\n",
      "Line :  4  ,  Message :  練習練習\n",
      "Line :  5  ,  Message :  放棄放棄\n",
      "--------------------------------------------------\n",
      "Line :  1  ,  Message :  Notepad++\n",
      "Line :  2  ,  Message :  禮拜四總愛下雨\n",
      "Line :  3  ,  Message :  放假放假\n",
      "Line :  4  ,  Message :  禮拜六放假\n",
      "Line :  5  ,  Message :  Lemon Tea ~~~\n"
     ]
    }
   ],
   "source": [
    "def readData(fileName):\n",
    "#     f6 = open(\"testC.txt\",\"r\",encoding=\"utf8\")    \n",
    "    f6 = open(fileName,\"r\",encoding=\"utf8\")\n",
    "    dataC = f6.readlines()\n",
    "\n",
    "    z=1\n",
    "    for w in dataC :\n",
    "        print(\"Line : \" , z , \" , \" , \"Message : \", w.strip())\n",
    "        z+=1\n",
    "    \n",
    "\n",
    "\n",
    "# f4 = open(\"testA.txt\",\"r\",encoding=\"utf8\")\n",
    "# dataA = f4.readlines()\n",
    "\n",
    "# i=1\n",
    "# for w in dataA :\n",
    "#     print(\"Line _ \" , i , \" , \" , \"Message _ \", w.strip())\n",
    "#     i+=1\n",
    "\n",
    "# print(\"-\"*50)\n",
    "    \n",
    "# f5 = open(\"testB.txt\",\"r\",encoding=\"utf8\")\n",
    "# dataB = f5.readlines()\n",
    "\n",
    "# j=1\n",
    "# for w in dataB :\n",
    "#     print(\"Line _ \" , j , \" , \" , \"Message _ \", w.strip())\n",
    "#     j+=1\n",
    "    \n",
    "    \n",
    "# print(\"-\"*50)\n",
    "    \n",
    "# f6 = open(\"testC.txt\",\"r\",encoding=\"utf8\")\n",
    "# dataC = f6.readlines()\n",
    "\n",
    "# z=1\n",
    "# for w in dataC :\n",
    "#     print(\"Line : \" , z , \" , \" , \"Message : \", w.strip())\n",
    "#     z+=1\n",
    "\n",
    "\n",
    "###########################################################################\n",
    "\n",
    "readData(\"testA.txt\")\n",
    "\n",
    "print(\"-\"*50)\n",
    "\n",
    "readData(\"testB.txt\")\n",
    "\n",
    "print(\"-\"*50)\n",
    "\n",
    "readData(\"testC.txt\")\n"
   ]
  },
  {
   "cell_type": "code",
   "execution_count": 99,
   "metadata": {},
   "outputs": [
    {
     "name": "stdout",
     "output_type": "stream",
     "text": [
      "Name :  Jeff\n",
      "Age :  20\n",
      "Remark :  ABC\n",
      "--------------------------------------------------\n",
      "Name :  Leo\n",
      "Age :  25\n",
      "Remark :  ABC\n",
      "--------------------------------------------------\n",
      "Name :  test\n",
      "Age :  40\n",
      "Remark :  ABC\n"
     ]
    }
   ],
   "source": [
    "# def  test_func(name , age , remark=“good”):\n",
    "#     print(name)\n",
    "#     print(“Age : {}”.format(age))\n",
    "#     print(”Remark is {}”.format(remark))\n",
    "#     return “done”\n",
    "\n",
    "\n",
    "# test_func(“Jeff”,18)\n",
    "\n",
    "def sayMyName(name , age , remark=\"ABC\", A=1 ,B=2):\n",
    "    print(\"Name : \" , name)\n",
    "    print(\"Age : \"  , age)\n",
    "    print(\"Remark : \",remark)\n",
    "    \n",
    "\n",
    "sayMyName(\"Jeff\",20)\n",
    "\n",
    "print(\"-\"*50)\n",
    "\n",
    "sayMyName(\"Leo\",25)\n",
    "\n",
    "print(\"-\"*50)\n",
    "\n",
    "sayMyName(\"test\",40)"
   ]
  },
  {
   "cell_type": "code",
   "execution_count": 125,
   "metadata": {
    "scrolled": true
   },
   "outputs": [
    {
     "name": "stdout",
     "output_type": "stream",
     "text": [
      "10\n",
      "In function :  17\n",
      "17\n"
     ]
    },
    {
     "ename": "NameError",
     "evalue": "name 'k' is not defined",
     "output_type": "error",
     "traceback": [
      "\u001b[1;31m---------------------------------------------------------------------------\u001b[0m",
      "\u001b[1;31mNameError\u001b[0m                                 Traceback (most recent call last)",
      "\u001b[1;32m<ipython-input-125-8ead966cae86>\u001b[0m in \u001b[0;36m<module>\u001b[1;34m\u001b[0m\n\u001b[0;32m     15\u001b[0m \u001b[0mprint\u001b[0m\u001b[1;33m(\u001b[0m\u001b[0mresult2\u001b[0m\u001b[1;33m)\u001b[0m\u001b[1;33m\u001b[0m\u001b[1;33m\u001b[0m\u001b[0m\n\u001b[0;32m     16\u001b[0m \u001b[1;33m\u001b[0m\u001b[0m\n\u001b[1;32m---> 17\u001b[1;33m \u001b[0mprint\u001b[0m\u001b[1;33m(\u001b[0m\u001b[1;34m\"Out of function : \"\u001b[0m\u001b[1;33m,\u001b[0m\u001b[0mk\u001b[0m\u001b[1;33m)\u001b[0m\u001b[1;33m\u001b[0m\u001b[1;33m\u001b[0m\u001b[0m\n\u001b[0m",
      "\u001b[1;31mNameError\u001b[0m: name 'k' is not defined"
     ]
    }
   ],
   "source": [
    "def add(a,b):\n",
    "    return a+b\n",
    "\n",
    "def add2(a,b,c):\n",
    "    k = a+b+c\n",
    "    print(\"In function : \" , k)\n",
    "    return k\n",
    "\n",
    "\n",
    "result = add(2,8)\n",
    "print(result)\n",
    "\n",
    "\n",
    "result2 = add2(1,7,9)\n",
    "print(result2)\n",
    "\n",
    "print(\"Out of function : \",k)"
   ]
  },
  {
   "cell_type": "code",
   "execution_count": 128,
   "metadata": {},
   "outputs": [
    {
     "name": "stdout",
     "output_type": "stream",
     "text": [
      "貨品分類,中文貨名,英文貨名,國家,數量,數量單位,重量,重量單位,價值\n",
      "3032300007,冷凍吳郭魚,\" Tilapias, frozen\",巴林,0,-   ,8000,KGM ,411\n",
      "3032300007,冷凍吳郭魚,\" Tilapias, frozen\",日本,0,-   ,10800,KGM ,696\n",
      "3032300007,冷凍吳郭魚,\" Tilapias, frozen\",加拿大,0,-   ,108631,KGM ,7365\n",
      "3032300007,冷凍吳郭魚,\" Tilapias, frozen\",沙烏地阿拉伯,0,-   ,503000,KGM ,24919\n",
      "3032300007,冷凍吳郭魚,\" Tilapias, frozen\",其他大洋洲國家,0,-   ,11695,KGM ,729\n",
      "3032300007,冷凍吳郭魚,\" Tilapias, frozen\",阿拉伯聯合大公國,0,-   ,29000,KGM ,1274\n",
      "3032300007,冷凍吳郭魚,\" Tilapias, frozen\",科威特,0,-   ,121536,KGM ,6128\n",
      "3032300007,冷凍吳郭魚,\" Tilapias, frozen\",美國,0,-   ,749982,KGM ,46022\n",
      "3032300007,冷凍吳郭魚,\" Tilapias, frozen\",香港,0,-   ,72,KGM ,2\n",
      "3032300007,冷凍吳郭魚,\" Tilapias, frozen\",澳大利亞,0,-   ,69570,KGM ,4786\n",
      "3032300007,冷凍吳郭魚,\" Tilapias, frozen\",關島,0,-   ,8618,KGM ,458\n",
      "12019000104,黑豆，不論是否破碎,\" Black soybeans, whether or not broken\",加拿大,0,-   ,0,TNE ,43\n",
      "12019000104,黑豆，不論是否破碎,\" Black soybeans, whether or not broken\",美國,0,-   ,0,TNE ,9\n",
      "12019000104,黑豆，不論是否破碎,\" Black soybeans, whether or not broken\",菲律賓,0,-   ,0,TNE ,6\n",
      "52114200005,牛仔布, Denim,中國大陸,11398,MTK ,1991,KGM ,902\n",
      "52114200005,牛仔布, Denim,日本,14364,MTK ,3898,KGM ,1596\n",
      "52114200005,牛仔布, Denim,印尼,21998,MTK ,3869,KGM ,1543\n",
      "52114200005,牛仔布, Denim,印度,7212,MTK ,2185,KGM ,513\n",
      "52114200005,牛仔布, Denim,柬埔寨,28081,MTK ,9915,KGM ,2469\n",
      "52114200005,牛仔布, Denim,馬來西亞,8925,MTK ,3598,KGM ,575\n",
      "52114200005,牛仔布, Denim,越南,139191,MTK ,53225,KGM ,12330\n",
      "52114200005,牛仔布, Denim,賴索托,6894,MTK ,2771,KGM ,435\n"
     ]
    }
   ],
   "source": [
    "with open(\"sample.csv\",\"r\",encoding=\"utf-8\") as inFile:\n",
    "    _data = inFile.readlines()\n",
    "# print(_data)\n",
    "\n",
    "for w in _data:\n",
    "    print(w.strip())\n",
    "    value = w.split(\",\")[-1]"
   ]
  },
  {
   "cell_type": "code",
   "execution_count": 133,
   "metadata": {},
   "outputs": [
    {
     "name": "stdout",
     "output_type": "stream",
     "text": [
      "411\n",
      "696\n",
      "7365\n",
      "24919\n",
      "729\n",
      "1274\n",
      "6128\n",
      "46022\n",
      "2\n",
      "4786\n",
      "458\n",
      "43\n",
      "9\n",
      "6\n",
      "902\n",
      "1596\n",
      "1543\n",
      "513\n",
      "2469\n",
      "575\n",
      "12330\n",
      "435\n",
      "==================================================\n",
      "Sum :  113211\n"
     ]
    }
   ],
   "source": [
    "### ReadData\n",
    "def readData(fileName):\n",
    "    \n",
    "with open(\"sample.csv\",\"r\",encoding=\"utf-8\") as inFile:\n",
    "    _data = inFile.readlines()\n",
    "# print(_data)\n",
    "\n",
    "\n",
    "_data = _data[1:]\n",
    "\n",
    "valueSum = 0\n",
    "\n",
    "### getValue \n",
    "for w in _data:\n",
    "    value = w.strip().split(\",\")[-1]\n",
    "    \n",
    "    valueSum += int(value)\n",
    "    print(value)\n",
    "\n",
    "print(\"=\"*50)\n",
    "print(\"Sum : \",valueSum)\n"
   ]
  },
  {
   "cell_type": "code",
   "execution_count": 134,
   "metadata": {},
   "outputs": [
    {
     "name": "stdout",
     "output_type": "stream",
     "text": [
      "Sum :  113211\n"
     ]
    }
   ],
   "source": [
    "### ReadData\n",
    "def readData(fileName):\n",
    "    with open(fileName,\"r\",encoding=\"utf-8\") as inFile:\n",
    "        _data = inFile.readlines()\n",
    "        \n",
    "    return _data\n",
    "\n",
    "\n",
    "### get value sum     \n",
    "def getValueSum(data):\n",
    "    valueSum = 0\n",
    "\n",
    "    for w in data:\n",
    "        value = w.strip().split(\",\")[-1]\n",
    "\n",
    "        valueSum += int(value)\n",
    "        \n",
    "    return valueSum\n",
    "\n",
    "\n",
    "\n",
    "# main \n",
    "    \n",
    "_data = readData(\"sample.csv\")\n",
    "\n",
    "_data = _data[1:]\n",
    "\n",
    "valueSum = getValueSum(_data)\n",
    "\n",
    "print(\"Sum : \",valueSum)\n"
   ]
  },
  {
   "cell_type": "code",
   "execution_count": null,
   "metadata": {},
   "outputs": [],
   "source": []
  },
  {
   "cell_type": "code",
   "execution_count": null,
   "metadata": {},
   "outputs": [],
   "source": []
  },
  {
   "cell_type": "code",
   "execution_count": null,
   "metadata": {},
   "outputs": [],
   "source": []
  },
  {
   "cell_type": "code",
   "execution_count": null,
   "metadata": {},
   "outputs": [],
   "source": []
  },
  {
   "cell_type": "code",
   "execution_count": null,
   "metadata": {},
   "outputs": [],
   "source": []
  },
  {
   "cell_type": "code",
   "execution_count": 119,
   "metadata": {},
   "outputs": [
    {
     "data": {
      "text/plain": [
       "13"
      ]
     },
     "execution_count": 119,
     "metadata": {},
     "output_type": "execute_result"
    }
   ],
   "source": []
  }
 ],
 "metadata": {
  "kernelspec": {
   "display_name": "Python 3",
   "language": "python",
   "name": "python3"
  },
  "language_info": {
   "codemirror_mode": {
    "name": "ipython",
    "version": 3
   },
   "file_extension": ".py",
   "mimetype": "text/x-python",
   "name": "python",
   "nbconvert_exporter": "python",
   "pygments_lexer": "ipython3",
   "version": "3.7.3"
  }
 },
 "nbformat": 4,
 "nbformat_minor": 2
}
