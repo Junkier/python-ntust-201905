{
 "cells": [
  {
   "cell_type": "code",
   "execution_count": null,
   "metadata": {},
   "outputs": [],
   "source": [
    "# 試撰寫一個 class 為 Student \n",
    "# 靜態屬性包含 : standard=70\n",
    "# 屬性包含 : name (str), studNo (int) , grades (list)\n",
    "# 函式包含 :\n",
    "#    - avg : 回傳 grades list 的平均值\n",
    "#    - add(grade) : 新增成績到 grades list 中, 並顯示 grades 狀態\n",
    "#    - failedCount()  : 回傳不及格 ( < standard ) 總數\n"
   ]
  },
  {
   "cell_type": "code",
   "execution_count": 10,
   "metadata": {},
   "outputs": [],
   "source": [
    "class Student:\n",
    "    standard = 70\n",
    "    \n",
    "    def __init__(self,name,studNo,grades):\n",
    "        self.name = name \n",
    "        self.studNo = studNo\n",
    "        self.grades = grades\n",
    "        \n",
    "    def avg(self):\n",
    "        return sum(self.grades) / len(self.grades)\n",
    "    \n",
    "    def add(self,grade):\n",
    "        self.grades.append(grade)\n",
    "        print(self.grades)\n",
    "        \n",
    "    def failedCount(self):\n",
    "        result = []\n",
    "        for score in self.grades:\n",
    "            if score < Student.standard :\n",
    "                result.append(score)\n",
    "        return len(result)"
   ]
  },
  {
   "cell_type": "code",
   "execution_count": 13,
   "metadata": {},
   "outputs": [
    {
     "name": "stdout",
     "output_type": "stream",
     "text": [
      "Keven\n",
      "1001\n",
      "[90, 50, 35]\n",
      "58.333333333333336\n",
      "85.0\n",
      "--------------------------------------------------------------------------------\n",
      "[90, 50, 35, 85]\n",
      "[90, 50, 35, 85, 97]\n",
      "[72, 84, 99, 42]\n",
      "--------------------------------------------------------------------------------\n",
      "2\n",
      "1\n",
      "71.4\n"
     ]
    }
   ],
   "source": [
    "s1 = Student(\"Keven\",1001,[90,50,35])\n",
    "s2 = Student(\"Jenny\",1002,[72,84,99])\n",
    "\n",
    "print(s1.name)\n",
    "print(s1.studNo)\n",
    "print(s1.grades)\n",
    "print(s1.avg())\n",
    "print(s2.avg())\n",
    "print(\"-\"*80)\n",
    "\n",
    "s1.add(85)\n",
    "s1.add(97)\n",
    "s2.add(42)\n",
    "\n",
    "print(\"-\"*80)\n",
    "\n",
    "\n",
    "print(s1.failedCount())\n",
    "print(s2.failedCount())\n",
    "\n",
    "print(s1.avg()) \n"
   ]
  }
 ],
 "metadata": {
  "kernelspec": {
   "display_name": "Python 3",
   "language": "python",
   "name": "python3"
  },
  "language_info": {
   "codemirror_mode": {
    "name": "ipython",
    "version": 3
   },
   "file_extension": ".py",
   "mimetype": "text/x-python",
   "name": "python",
   "nbconvert_exporter": "python",
   "pygments_lexer": "ipython3",
   "version": "3.7.3"
  }
 },
 "nbformat": 4,
 "nbformat_minor": 2
}
