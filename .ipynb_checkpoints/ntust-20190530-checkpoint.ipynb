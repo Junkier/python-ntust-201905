{
 "cells": [
  {
   "cell_type": "code",
   "execution_count": 4,
   "metadata": {},
   "outputs": [
    {
     "name": "stdout",
     "output_type": "stream",
     "text": [
      "<Response [200]>\n"
     ]
    }
   ],
   "source": [
    "import requests \n",
    "url = \"https://tip.railway.gov.tw/tra-tip-web/tip/tip001/tip112/gobytime\"\n",
    "res = requests.get(url)\n",
    "print(res)"
   ]
  },
  {
   "cell_type": "code",
   "execution_count": null,
   "metadata": {},
   "outputs": [],
   "source": [
    "print(res.text)"
   ]
  },
  {
   "cell_type": "code",
   "execution_count": 15,
   "metadata": {},
   "outputs": [
    {
     "name": "stdout",
     "output_type": "stream",
     "text": [
      "<Response [200]>\n"
     ]
    }
   ],
   "source": [
    "url2 = \"https://tip.railway.gov.tw/tra-tip-web/tip/tip001/tip112/querybytime\"\n",
    "\n",
    "payload = {\n",
    "    \"_csrf\":\" ec8c645c-1c34-4b5f-8e92-0d108da48ec4\",\n",
    "    \"startStation\": \"1020-板橋\",\n",
    "    \"endStation\": \"3360-彰化\",\n",
    "    \"transfer\": \"ONE\",\n",
    "    \"rideDate\": \"2019/05/30\",\n",
    "    \"startOrEndTime\": \"true\",\n",
    "    \"startTime\": \"00:00\",\n",
    "    \"endTime\": \"23:59\",\n",
    "    \"trainTypeList\": \"ALL\",\n",
    "    \"query\": \"查詢\"\n",
    "}\n",
    "\n",
    "userHeaders = {\n",
    "    \"Accept\": \"text/html,application/xhtml+xml,application/xml;q=0.9,image/webp,image/apng,*/*;q=0.8,application/signed-exchange;v=b3\",\n",
    "    \"Accept-Encoding\": \"gzip, deflate, br\",\n",
    "    \"Accept-Language\": \"zh-TW,zh;q=0.9,en-US;q=0.8,en;q=0.7\",\n",
    "    \"Cache-Control\": \"max-age=0\",\n",
    "    \"Connection\": \"keep-alive\",\n",
    "    \"Content-Length\": \"248\",\n",
    "    \"Content-Type\": \"application/x-www-form-urlencoded\",\n",
    "#     \"Cookie\": TIPTRAVEL=!rXsOp+sZgTbBPUVtYmFW8mDP2DdqyS6B98u9HoL7cWWjrOLcKI2RSORcyP0IXXQYLFjyfzLbkYLjjKuQ0sAlXghO3qbKmb+WgmU1Idy7/MQ=; _ga=GA1.3.445379537.1559212274; _gid=GA1.3.2031738176.1559212274; _gat_gtag_UA_136244739_1=1\n",
    "    \"Host\": \"tip.railway.gov.tw\",\n",
    "    \"Origin\": \"https://tip.railway.gov.tw\",\n",
    "    \"Referer\": \"https://tip.railway.gov.tw/tra-tip-web/tip/tip001/tip112/querybytime\",\n",
    "    \"Upgrade-Insecure-Requests\": \"1\",\n",
    "    \"User-Agent\": \"Mozilla/5.0 (Windows NT 6.1; Win64; x64) AppleWebKit/537.36 (KHTML, like Gecko) Chrome/74.0.3729.169 Safari/537.36\"\n",
    "}\n",
    "\n",
    "# 沒有 Headers\n",
    "# res2 = requests.post(url2,data=payload)\n",
    "\n",
    "\n",
    "# 有 Headers\n",
    "res2 = requests.post(url2,data=payload , headers = userHeaders)\n",
    "\n",
    "\n",
    "print(res2)\n"
   ]
  },
  {
   "cell_type": "code",
   "execution_count": 17,
   "metadata": {},
   "outputs": [
    {
     "name": "stdout",
     "output_type": "stream",
     "text": [
      "<Response [200]>\n"
     ]
    }
   ],
   "source": [
    "print(res2)"
   ]
  },
  {
   "cell_type": "code",
   "execution_count": null,
   "metadata": {},
   "outputs": [],
   "source": []
  }
 ],
 "metadata": {
  "kernelspec": {
   "display_name": "Python 3",
   "language": "python",
   "name": "python3"
  },
  "language_info": {
   "codemirror_mode": {
    "name": "ipython",
    "version": 3
   },
   "file_extension": ".py",
   "mimetype": "text/x-python",
   "name": "python",
   "nbconvert_exporter": "python",
   "pygments_lexer": "ipython3",
   "version": "3.7.3"
  }
 },
 "nbformat": 4,
 "nbformat_minor": 2
}
