{
 "cells": [
  {
   "cell_type": "code",
   "execution_count": null,
   "metadata": {},
   "outputs": [],
   "source": [
    "# 試撰寫一個 class 為 Student \n",
    "# 靜態屬性包含 : standard=70\n",
    "# 屬性包含 : name (str), studNo (int) , grades (list)\n",
    "# 函式包含 :\n",
    "#    - avg : 回傳 grades list 的平均值\n",
    "#    - add(grade) : 新增成績到 grades list 中, 並顯示 grades 狀態\n",
    "#    - failedCount()  : 回傳不及格 ( < standard ) 總數\n"
   ]
  },
  {
   "cell_type": "code",
   "execution_count": 10,
   "metadata": {},
   "outputs": [],
   "source": [
    "class Student:\n",
    "    standard = 70\n",
    "    \n",
    "    def __init__(self,name,studNo,grades):\n",
    "        self.name = name \n",
    "        self.studNo = studNo\n",
    "        self.grades = grades\n",
    "        \n",
    "    def avg(self):\n",
    "        return sum(self.grades) / len(self.grades)\n",
    "    \n",
    "    def add(self,grade):\n",
    "        self.grades.append(grade)\n",
    "        print(self.grades)\n",
    "        \n",
    "    def failedCount(self):\n",
    "        result = []\n",
    "        for score in self.grades:\n",
    "            if score < Student.standard :\n",
    "                result.append(score)\n",
    "        return len(result)"
   ]
  },
  {
   "cell_type": "code",
   "execution_count": 16,
   "metadata": {},
   "outputs": [],
   "source": [
    "class Student2:\n",
    "    standard = 70\n",
    "    \n",
    "    def __init__(self,name,studNo,grades):\n",
    "        self.name = name \n",
    "        self.studNo = studNo\n",
    "        self.grades = grades\n",
    "        \n",
    "    def avg(self):\n",
    "        return sum(self.grades) / len(self.grades)\n",
    "    \n",
    "    def add(self,grade):\n",
    "        self.grades.append(grade)\n",
    "        print(self.grades)\n",
    "        \n",
    "    def failedCount(self):\n",
    "        result = []\n",
    "        for score in self.grades:\n",
    "            if score < standard :\n",
    "                result.append(score)\n",
    "        return len(result)"
   ]
  },
  {
   "cell_type": "code",
   "execution_count": 17,
   "metadata": {},
   "outputs": [
    {
     "ename": "NameError",
     "evalue": "name 'standard' is not defined",
     "output_type": "error",
     "traceback": [
      "\u001b[1;31m---------------------------------------------------------------------------\u001b[0m",
      "\u001b[1;31mNameError\u001b[0m                                 Traceback (most recent call last)",
      "\u001b[1;32m<ipython-input-17-ee95957e981d>\u001b[0m in \u001b[0;36m<module>\u001b[1;34m\u001b[0m\n\u001b[0;32m      3\u001b[0m \u001b[1;33m\u001b[0m\u001b[0m\n\u001b[0;32m      4\u001b[0m \u001b[1;33m\u001b[0m\u001b[0m\n\u001b[1;32m----> 5\u001b[1;33m \u001b[0mprint\u001b[0m\u001b[1;33m(\u001b[0m\u001b[0ms3\u001b[0m\u001b[1;33m.\u001b[0m\u001b[0mfailedCount\u001b[0m\u001b[1;33m(\u001b[0m\u001b[1;33m)\u001b[0m\u001b[1;33m)\u001b[0m\u001b[1;33m\u001b[0m\u001b[1;33m\u001b[0m\u001b[0m\n\u001b[0m\u001b[0;32m      6\u001b[0m \u001b[0mprint\u001b[0m\u001b[1;33m(\u001b[0m\u001b[0ms4\u001b[0m\u001b[1;33m.\u001b[0m\u001b[0mfailedCount\u001b[0m\u001b[1;33m(\u001b[0m\u001b[1;33m)\u001b[0m\u001b[1;33m)\u001b[0m\u001b[1;33m\u001b[0m\u001b[1;33m\u001b[0m\u001b[0m\n",
      "\u001b[1;32m<ipython-input-16-5bb353f9ddad>\u001b[0m in \u001b[0;36mfailedCount\u001b[1;34m(self)\u001b[0m\n\u001b[0;32m     17\u001b[0m         \u001b[0mresult\u001b[0m \u001b[1;33m=\u001b[0m \u001b[1;33m[\u001b[0m\u001b[1;33m]\u001b[0m\u001b[1;33m\u001b[0m\u001b[1;33m\u001b[0m\u001b[0m\n\u001b[0;32m     18\u001b[0m         \u001b[1;32mfor\u001b[0m \u001b[0mscore\u001b[0m \u001b[1;32min\u001b[0m \u001b[0mself\u001b[0m\u001b[1;33m.\u001b[0m\u001b[0mgrades\u001b[0m\u001b[1;33m:\u001b[0m\u001b[1;33m\u001b[0m\u001b[1;33m\u001b[0m\u001b[0m\n\u001b[1;32m---> 19\u001b[1;33m             \u001b[1;32mif\u001b[0m \u001b[0mscore\u001b[0m \u001b[1;33m<\u001b[0m \u001b[0mstandard\u001b[0m \u001b[1;33m:\u001b[0m\u001b[1;33m\u001b[0m\u001b[1;33m\u001b[0m\u001b[0m\n\u001b[0m\u001b[0;32m     20\u001b[0m                 \u001b[0mresult\u001b[0m\u001b[1;33m.\u001b[0m\u001b[0mappend\u001b[0m\u001b[1;33m(\u001b[0m\u001b[0mscore\u001b[0m\u001b[1;33m)\u001b[0m\u001b[1;33m\u001b[0m\u001b[1;33m\u001b[0m\u001b[0m\n\u001b[0;32m     21\u001b[0m         \u001b[1;32mreturn\u001b[0m \u001b[0mlen\u001b[0m\u001b[1;33m(\u001b[0m\u001b[0mresult\u001b[0m\u001b[1;33m)\u001b[0m\u001b[1;33m\u001b[0m\u001b[1;33m\u001b[0m\u001b[0m\n",
      "\u001b[1;31mNameError\u001b[0m: name 'standard' is not defined"
     ]
    }
   ],
   "source": [
    "s3 = Student2(\"Keven\",1001,[90,50,35])\n",
    "s4 = Student2(\"Jenny\",1002,[72,84,99])\n",
    "\n",
    "\n",
    "print(s3.failedCount())\n",
    "print(s4.failedCount())\n"
   ]
  },
  {
   "cell_type": "code",
   "execution_count": 13,
   "metadata": {},
   "outputs": [
    {
     "name": "stdout",
     "output_type": "stream",
     "text": [
      "Keven\n",
      "1001\n",
      "[90, 50, 35]\n",
      "58.333333333333336\n",
      "85.0\n",
      "--------------------------------------------------------------------------------\n",
      "[90, 50, 35, 85]\n",
      "[90, 50, 35, 85, 97]\n",
      "[72, 84, 99, 42]\n",
      "--------------------------------------------------------------------------------\n",
      "2\n",
      "1\n",
      "71.4\n"
     ]
    }
   ],
   "source": [
    "s1 = Student(\"Keven\",1001,[90,50,35])\n",
    "s2 = Student(\"Jenny\",1002,[72,84,99])\n",
    "\n",
    "print(s1.name)\n",
    "print(s1.studNo)\n",
    "print(s1.grades)\n",
    "print(s1.avg())\n",
    "print(s2.avg())\n",
    "print(\"-\"*80)\n",
    "\n",
    "s1.add(85)\n",
    "s1.add(97)\n",
    "s2.add(42)\n",
    "\n",
    "print(\"-\"*80)\n",
    "\n",
    "\n",
    "print(s1.failedCount())\n",
    "print(s2.failedCount())\n",
    "\n",
    "print(s1.avg()) \n"
   ]
  }
 ],
 "metadata": {
  "kernelspec": {
   "display_name": "Python 3",
   "language": "python",
   "name": "python3"
  },
  "language_info": {
   "codemirror_mode": {
    "name": "ipython",
    "version": 3
   },
   "file_extension": ".py",
   "mimetype": "text/x-python",
   "name": "python",
   "nbconvert_exporter": "python",
   "pygments_lexer": "ipython3",
   "version": "3.7.3"
  }
 },
 "nbformat": 4,
 "nbformat_minor": 2
}
