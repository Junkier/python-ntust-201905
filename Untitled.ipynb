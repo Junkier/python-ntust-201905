{
 "cells": [
  {
   "cell_type": "code",
   "execution_count": 15,
   "metadata": {},
   "outputs": [
    {
     "name": "stdout",
     "output_type": "stream",
     "text": [
      "7\n",
      "3\n",
      "10\n",
      "4\n",
      "========\n",
      "3.0\n",
      "10.0\n",
      "5.9025\n",
      "========\n",
      "False\n",
      "False\n",
      "========\n",
      "Hello\n",
      "Hello!!!\n",
      "========\n",
      "10002\n",
      "10002\n",
      "123\n"
     ]
    }
   ],
   "source": [
    "x=int(7)\n",
    "y=int(3)\n",
    "\n",
    "print(x)\n",
    "print(y)\n",
    "\n",
    "print(x+y)\n",
    "\n",
    "z=7\n",
    "w=3\n",
    "print(z-w)\n",
    "\n",
    "print(\"========\")\n",
    "\n",
    "a= float(3)\n",
    "b= float(10)\n",
    "\n",
    "print(a)\n",
    "print(b)\n",
    "\n",
    "c= 3.1415\n",
    "d= 2.761\n",
    "\n",
    "print(c+d)\n",
    "\n",
    "print(\"========\")\n",
    "\n",
    "\n",
    "e=True\n",
    "f=False\n",
    "h=False\n",
    "print(e and f)\n",
    "print(e and f and h)\n",
    "\n",
    "print(\"========\")\n",
    "\n",
    "word  = \"Hello\"\n",
    "word2 = 'Hello!!!'\n",
    "print(word)\n",
    "print(word2)\n",
    "\n",
    "\n",
    "print(\"========\")\n",
    "\n",
    "num = 10002\n",
    "memberNo = 10002\n",
    "print(num)\n",
    "print(memberNo)\n",
    "\n",
    "validcaseno = 456\n",
    "validCaseNo = 123\n",
    "\n",
    "print(validCaseNo)"
   ]
  },
  {
   "cell_type": "code",
   "execution_count": null,
   "metadata": {},
   "outputs": [],
   "source": []
  },
  {
   "cell_type": "code",
   "execution_count": null,
   "metadata": {},
   "outputs": [],
   "source": [
    "# .format\n",
    "w1 = \"Hi , I'm Jeff\"\n",
    "print(w1)\n",
    "\n",
    "# [:]\n",
    "w2 = \"This is a book\"\n",
    "\n",
    "# .split\n",
    "w3 = \"This is a book.\"\n",
    "w4 = \"Apple,Banana,Cat\"\n",
    "print(w3.split(\" \"))\n",
    "print(w4.split(\" \"))\n",
    "# .join\n",
    "w5 = \",\".join([\"1\",\"2\",\"3\",\"4\"])\n",
    "print(w5)\n",
    "\n",
    "# .strip\n",
    "\n",
    "# .startswith\n",
    "\n",
    "# .replace \n",
    "\n",
    "# .find"
   ]
  }
 ],
 "metadata": {
  "kernelspec": {
   "display_name": "Python 3",
   "language": "python",
   "name": "python3"
  },
  "language_info": {
   "codemirror_mode": {
    "name": "ipython",
    "version": 3
   },
   "file_extension": ".py",
   "mimetype": "text/x-python",
   "name": "python",
   "nbconvert_exporter": "python",
   "pygments_lexer": "ipython3",
   "version": "3.7.3"
  }
 },
 "nbformat": 4,
 "nbformat_minor": 2
}
