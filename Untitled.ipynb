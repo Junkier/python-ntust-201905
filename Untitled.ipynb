{
 "cells": [
  {
   "cell_type": "code",
   "execution_count": null,
   "metadata": {},
   "outputs": [],
   "source": [
    "# 1. 計算 1+2+3+…+n 之總和\n",
    "# i = 0\n",
    "# num = 10\n",
    "# _sum = 0\n",
    "# while i<=num:\n",
    "#     _sum += i\n",
    "#     i+=1\n",
    "# print(_sum)\n",
    "\n",
    "# 2. 試撰寫一程式 , 列印出以下圖形\n",
    "#      ******\n",
    "#      *****\n",
    "#      ****\n",
    "#      ***\n",
    "#      **\n",
    "#      *\n",
    "# for i in range(1,7):\n",
    "#     print(\"*\"*(7-i))\n",
    "\n",
    "\n",
    "# 3. 有一 list = [“a”, “b”, “c”, “c”, “c”, “a”, “d”, “b”, “b”, “a”, “c”]\n",
    "#     試統計各字母出現次數\n",
    "# words = [\"a\",\"b\",\"c\",\"c\",\"c\",\"a\",\"a\",\"b\",\"b\",\"a\",\"c\",\"d\",\"c\"]\n",
    "# _dict = {}\n",
    "# for w in words:\n",
    "#     if w in _dict:\n",
    "#         _dict[w] +=1\n",
    "#     else:\n",
    "#         _dict[w] = 1\n",
    "\n",
    "# print(_dict)\n",
    "\n",
    "\n",
    "# 4. 試撰寫一程式 , 顯示九九乘法表\n",
    "# for i in range(1,10):\n",
    "#     msg = \"\"\n",
    "#     for j in range(1,10):\n",
    "#         v = i*j\n",
    "#         msg += \"{i} * {j} = {v}\".format(i=i,j=j,v=v)\n",
    "#         msg += \"  \" if len(str(v)) == 1 else \" \"\n",
    "#     print(msg)"
   ]
  }
 ],
 "metadata": {
  "kernelspec": {
   "display_name": "Python 3",
   "language": "python",
   "name": "python3"
  },
  "language_info": {
   "codemirror_mode": {
    "name": "ipython",
    "version": 3
   },
   "file_extension": ".py",
   "mimetype": "text/x-python",
   "name": "python",
   "nbconvert_exporter": "python",
   "pygments_lexer": "ipython3",
   "version": "3.7.3"
  }
 },
 "nbformat": 4,
 "nbformat_minor": 2
}
